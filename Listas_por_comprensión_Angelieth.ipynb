{
  "nbformat": 4,
  "nbformat_minor": 0,
  "metadata": {
    "colab": {
      "provenance": []
    },
    "kernelspec": {
      "name": "python3",
      "display_name": "Python 3"
    },
    "language_info": {
      "name": "python"
    }
  },
  "cells": [
    {
      "cell_type": "markdown",
      "source": [
        "##**Lista por comprensión**"
      ],
      "metadata": {
        "id": "c7qg0Lmy-0Am"
      }
    },
    {
      "cell_type": "markdown",
      "source": [
        "######Teoría by Daniel \n",
        "\n",
        "Sintaxis newlist=[expresión(elemento) for n in oldList si condición)\n",
        "\n",
        "Técnicamente es colocar primero la expresión u operación y luego la condición. "
      ],
      "metadata": {
        "id": "CrDAUXYQE2bh"
      }
    },
    {
      "cell_type": "code",
      "execution_count": 2,
      "metadata": {
        "colab": {
          "base_uri": "https://localhost:8080/"
        },
        "id": "kQO-gSGO-zJJ",
        "outputId": "46c4cd47-1555-4cfd-e9ba-697238306d15"
      },
      "outputs": [
        {
          "output_type": "stream",
          "name": "stdout",
          "text": [
            "[2, 4, 6, 8, 10, 12, 14, 16]\n"
          ]
        }
      ],
      "source": [
        "numeros=[(n*2) for n in range (1,9)]\n",
        "print(numeros)"
      ]
    },
    {
      "cell_type": "markdown",
      "source": [
        "####**Ventajas:**\n",
        "\n",
        "*   Más eficiente en tiempo y espacio que los bucles.\n",
        "*   Requiere menos líneas de código. \n",
        "*   Transforma una declaración iterativa en una fórmula. "
      ],
      "metadata": {
        "id": "WGtQ5L4b_1Ys"
      }
    },
    {
      "cell_type": "code",
      "source": [
        "cadenas=[\"*\" * n for n in range(1,6)]\n",
        "print(cadenas)"
      ],
      "metadata": {
        "colab": {
          "base_uri": "https://localhost:8080/"
        },
        "id": "d-C1pMDoAjd7",
        "outputId": "7e127c25-912d-4b81-d4a1-9bcc587e2080"
      },
      "execution_count": 3,
      "outputs": [
        {
          "output_type": "stream",
          "name": "stdout",
          "text": [
            "['*', '**', '***', '****', '*****']\n"
          ]
        }
      ]
    },
    {
      "cell_type": "code",
      "source": [
        "numero=[2,5,6,9,10]\n",
        "cuadrados=[(n**2) for n in numero]\n",
        "print(cuadrados)"
      ],
      "metadata": {
        "colab": {
          "base_uri": "https://localhost:8080/"
        },
        "id": "ES82By3RBA04",
        "outputId": "8c2f1f14-efcf-4711-f683-4bde4680d496"
      },
      "execution_count": 4,
      "outputs": [
        {
          "output_type": "stream",
          "name": "stdout",
          "text": [
            "[4, 25, 36, 81, 100]\n"
          ]
        }
      ]
    },
    {
      "cell_type": "code",
      "source": [
        "cadena= \"programación\"\n",
        "letras=[]\n",
        "for letra in cadena:\n",
        "  letras.append(letra)\n",
        "\n",
        "  print(letras)"
      ],
      "metadata": {
        "colab": {
          "base_uri": "https://localhost:8080/"
        },
        "id": "rkxVk2WkCsJg",
        "outputId": "98651efa-b713-4d88-cc02-09e040843c8f"
      },
      "execution_count": 5,
      "outputs": [
        {
          "output_type": "stream",
          "name": "stdout",
          "text": [
            "['p']\n",
            "['p', 'r']\n",
            "['p', 'r', 'o']\n",
            "['p', 'r', 'o', 'g']\n",
            "['p', 'r', 'o', 'g', 'r']\n",
            "['p', 'r', 'o', 'g', 'r', 'a']\n",
            "['p', 'r', 'o', 'g', 'r', 'a', 'm']\n",
            "['p', 'r', 'o', 'g', 'r', 'a', 'm', 'a']\n",
            "['p', 'r', 'o', 'g', 'r', 'a', 'm', 'a', 'c']\n",
            "['p', 'r', 'o', 'g', 'r', 'a', 'm', 'a', 'c', 'i']\n",
            "['p', 'r', 'o', 'g', 'r', 'a', 'm', 'a', 'c', 'i', 'ó']\n",
            "['p', 'r', 'o', 'g', 'r', 'a', 'm', 'a', 'c', 'i', 'ó', 'n']\n"
          ]
        }
      ]
    },
    {
      "cell_type": "code",
      "source": [
        "cadena= \"python\"\n",
        "letras =[letra for letra in cadena]\n",
        "print(letras)"
      ],
      "metadata": {
        "colab": {
          "base_uri": "https://localhost:8080/"
        },
        "id": "vu00tdCyDQNe",
        "outputId": "d01afa93-86d0-4a90-91ec-52fdc6536462"
      },
      "execution_count": 6,
      "outputs": [
        {
          "output_type": "stream",
          "name": "stdout",
          "text": [
            "['p', 'y', 't', 'h', 'o', 'n']\n"
          ]
        }
      ]
    },
    {
      "cell_type": "code",
      "source": [
        "#Ejercicio by Samuel \n",
        "x=input(\"Ingrese la palabra que desee: \")\n",
        "lista=[n for n in x]\n",
        "print(lista)"
      ],
      "metadata": {
        "colab": {
          "base_uri": "https://localhost:8080/"
        },
        "id": "pY6KfOQhDh0u",
        "outputId": "4d5eccaa-37eb-430a-8c9d-4b97b5917fb1"
      },
      "execution_count": 7,
      "outputs": [
        {
          "output_type": "stream",
          "name": "stdout",
          "text": [
            "Ingrese la palabra que desee: araña\n",
            "['a', 'r', 'a', 'ñ', 'a']\n"
          ]
        }
      ]
    },
    {
      "cell_type": "code",
      "source": [
        "#Ejercicio by Daniel Amado\n",
        "lista1=[2,7,10,9,8]\n",
        "lista2=[elementos**2 for elementos in lista1 if elementos%2==0]\n",
        "print(\"Nueva lista\", lista2)"
      ],
      "metadata": {
        "colab": {
          "base_uri": "https://localhost:8080/"
        },
        "id": "ts6anNVcDy3d",
        "outputId": "0ed2f147-fe59-4b1e-a0da-e945c5971fa9"
      },
      "execution_count": 8,
      "outputs": [
        {
          "output_type": "stream",
          "name": "stdout",
          "text": [
            "Nueva lista [4, 100, 64]\n"
          ]
        }
      ]
    },
    {
      "cell_type": "code",
      "source": [
        "#Ejercicio Iván \n",
        "import random \n",
        "capitan = [random.randrange(1,30) for i in range(9)]\n",
        "print(\"Números aleatorios de la lista:\", str(capitan))"
      ],
      "metadata": {
        "colab": {
          "base_uri": "https://localhost:8080/"
        },
        "id": "iZF-oWDUERDt",
        "outputId": "40853ad6-4144-4d14-ade0-b8d1f8665d0e"
      },
      "execution_count": 9,
      "outputs": [
        {
          "output_type": "stream",
          "name": "stdout",
          "text": [
            "Números aleatorios de la lista: [15, 4, 8, 14, 8, 4, 16, 4, 12]\n"
          ]
        }
      ]
    },
    {
      "cell_type": "code",
      "source": [
        "#Ejercicio Juan Pablo\n",
        "precios=[]\n",
        "print(\"Ingree los números de los que quieres hacer un descuento \")\n",
        "det=True\n",
        "while det:\n",
        "  num=int(input(' si no desea agregar más números dígite 0 '))\n",
        "  precios.append(num)\n",
        "  det = False if num ==0 else num>0\n",
        "des=float(input(print('Ingrese el descuento sin el % ')))\n",
        "presdes=[precio*des/100 for precio in precios]\n",
        "presdes.pop(-1) #.pop para no tomar un valor determinado de una lista\n",
        "print(\"este es el valor que debes restar a cada número\", presdes)"
      ],
      "metadata": {
        "colab": {
          "base_uri": "https://localhost:8080/"
        },
        "id": "RRprXr3pFPd0",
        "outputId": "09323e11-fbd1-41aa-aadb-45876926532c"
      },
      "execution_count": 11,
      "outputs": [
        {
          "output_type": "stream",
          "name": "stdout",
          "text": [
            "Ingree los números de los que quieres hacer un descuento \n",
            " si no desea agregar más números dígite 0 0\n",
            "Ingrese el descuento sin el % \n",
            "None20\n",
            "este es el valor que debes restar a cada número []\n"
          ]
        }
      ]
    },
    {
      "cell_type": "code",
      "source": [
        "#Ejercicio Acuña \n",
        "num=[]\n",
        "for i in range(6):\n",
        "  num.append(int(input(\"Introduce el número ganador\" )))\n",
        "num.sort()\n",
        "print(\"Los números ganadores del balato son: \"+str(num))"
      ],
      "metadata": {
        "colab": {
          "base_uri": "https://localhost:8080/"
        },
        "id": "KYxTF21fHsuK",
        "outputId": "df1579a3-533f-42a6-f867-1eb8f2782683"
      },
      "execution_count": 13,
      "outputs": [
        {
          "output_type": "stream",
          "name": "stdout",
          "text": [
            "Introduce el número ganador12\n",
            "Introduce el número ganador5\n",
            "Introduce el número ganador8\n",
            "Introduce el número ganador26\n",
            "Introduce el número ganador27\n",
            "Introduce el número ganador6\n",
            "Los números ganadores del balato son: [5, 6, 8, 12, 26, 27]\n"
          ]
        }
      ]
    }
  ]
}