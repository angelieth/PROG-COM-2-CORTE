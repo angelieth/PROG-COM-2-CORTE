{
  "nbformat": 4,
  "nbformat_minor": 0,
  "metadata": {
    "colab": {
      "provenance": [],
      "collapsed_sections": []
    },
    "kernelspec": {
      "name": "python3",
      "display_name": "Python 3"
    },
    "language_info": {
      "name": "python"
    }
  },
  "cells": [
    {
      "cell_type": "markdown",
      "source": [
        "**Temperatura ambiente : 18 a 25°C** "
      ],
      "metadata": {
        "id": "QwQxUj6Ewa9B"
      }
    },
    {
      "cell_type": "code",
      "execution_count": 44,
      "metadata": {
        "id": "S77Qks3Gsot5"
      },
      "outputs": [],
      "source": [
        "dias=[\"Lunes\", \"Martes\", \"Miércoles\", \"Jueves\", \"Viernes\", \"Sábado\", \"Domingo\"]"
      ]
    },
    {
      "cell_type": "code",
      "source": [
        "temp=[30.5, 12.0, 26.5, 20.0, 25.5, 11.5, 22.3]"
      ],
      "metadata": {
        "id": "K682TL47t2y-"
      },
      "execution_count": 21,
      "outputs": []
    },
    {
      "cell_type": "code",
      "source": [
        "temp_semanal={dias: temp for (dias, temp) in zip(dias, temp)}\n",
        "print(temp_semanal)"
      ],
      "metadata": {
        "colab": {
          "base_uri": "https://localhost:8080/"
        },
        "id": "AEit_2x0uN2J",
        "outputId": "8cc6f2a0-3960-48c3-f113-ccd407ca8de6"
      },
      "execution_count": 6,
      "outputs": [
        {
          "output_type": "stream",
          "name": "stdout",
          "text": [
            "{'Lunes': 30.5, 'Martes': 40.0, 'Miércoles': 37.5, 'Jueves': 29.0, 'Viernes': 36.5, 'Sábado': 28.5, 'Domingo': 24.3}\n"
          ]
        }
      ]
    },
    {
      "cell_type": "code",
      "source": [
        "temp_semanal[\"Miércoles\"]"
      ],
      "metadata": {
        "colab": {
          "base_uri": "https://localhost:8080/"
        },
        "id": "PzHjpAK7v2Dh",
        "outputId": "3e1e1b2e-b945-4408-f736-c18725445b1f"
      },
      "execution_count": 7,
      "outputs": [
        {
          "output_type": "execute_result",
          "data": {
            "text/plain": [
              "37.5"
            ]
          },
          "metadata": {},
          "execution_count": 7
        }
      ]
    },
    {
      "cell_type": "code",
      "source": [
        "#[(30.5,\"Temperatura caliente\"),(),()]\n",
        "ttupla=[]\n",
        "for i in temp:\n",
        "  \n",
        "  if i<18:\n",
        "    print(\"Temperatura fría\")\n",
        "    ttupla.append((i,\"Temperatura fría\"))\n",
        "  elif i>18 and i<25:\n",
        "    print(\"Temperatura ambiente\")\n",
        "    ttupla.append((i,\"Temperatura ambiente\"))\n",
        "  elif i>25: \n",
        "    print(\"Temperatura caliente\")\n",
        "    ttupla.append((i,\"Temperatura caliente\"))"
      ],
      "metadata": {
        "colab": {
          "base_uri": "https://localhost:8080/"
        },
        "id": "ILU1PKj9zPmp",
        "outputId": "12291d18-519c-4bdf-88df-369bab286ca9"
      },
      "execution_count": 35,
      "outputs": [
        {
          "output_type": "stream",
          "name": "stdout",
          "text": [
            "Temperatura caliente\n",
            "Temperatura fría\n",
            "Temperatura caliente\n",
            "Temperatura ambiente\n",
            "Temperatura caliente\n",
            "Temperatura fría\n",
            "Temperatura ambiente\n"
          ]
        }
      ]
    },
    {
      "cell_type": "code",
      "source": [
        "ttupla "
      ],
      "metadata": {
        "colab": {
          "base_uri": "https://localhost:8080/"
        },
        "id": "Yn6F9xKi38fp",
        "outputId": "93db42fa-80c7-42a7-aa11-6ec78297e82a"
      },
      "execution_count": 33,
      "outputs": [
        {
          "output_type": "execute_result",
          "data": {
            "text/plain": [
              "[(30.5, 'Temperatura caliente'),\n",
              " (12.0, 'Temperatura fría'),\n",
              " (26.5, 'Temperatura caliente'),\n",
              " (20.0, 'Temperatura ambiente'),\n",
              " (25.5, 'Temperatura caliente'),\n",
              " (11.5, 'Temperatura fría'),\n",
              " (22.3, 'Temperatura ambiente')]"
            ]
          },
          "metadata": {},
          "execution_count": 33
        }
      ]
    },
    {
      "cell_type": "code",
      "source": [
        "resultado = {dias: ttupla for (dias, ttupla) in zip(dias, ttupla)} \n",
        "resultado"
      ],
      "metadata": {
        "colab": {
          "base_uri": "https://localhost:8080/"
        },
        "id": "73jJZPFHwzcg",
        "outputId": "8a115903-2ad7-4b35-9f3d-4b5649580532"
      },
      "execution_count": 43,
      "outputs": [
        {
          "output_type": "execute_result",
          "data": {
            "text/plain": [
              "{'Lunes': (30.5, 'Temperatura caliente'),\n",
              " 'Martes': (12.0, 'Temperatura fría'),\n",
              " 'Miércoles': (26.5, 'Temperatura caliente'),\n",
              " 'Jueves': (20.0, 'Temperatura ambiente'),\n",
              " 'Viernes': (25.5, 'Temperatura caliente'),\n",
              " 'Sábado': (11.5, 'Temperatura fría'),\n",
              " 'Domingo': (22.3, 'Temperatura ambiente')}"
            ]
          },
          "metadata": {},
          "execution_count": 43
        }
      ]
    }
  ]
}