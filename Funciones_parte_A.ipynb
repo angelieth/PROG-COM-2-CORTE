{
  "nbformat": 4,
  "nbformat_minor": 0,
  "metadata": {
    "colab": {
      "provenance": []
    },
    "kernelspec": {
      "name": "python3",
      "display_name": "Python 3"
    },
    "language_info": {
      "name": "python"
    }
  },
  "cells": [
    {
      "cell_type": "markdown",
      "source": [
        "#Funciones "
      ],
      "metadata": {
        "id": "oZh2p7Hh0Yxl"
      }
    },
    {
      "cell_type": "markdown",
      "source": [
        "def (nombre cualquiera)(parámetros o argumentos):\n",
        "  \n",
        "  Lo que va dentro de la función"
      ],
      "metadata": {
        "id": "0O4w42P10w_j"
      }
    },
    {
      "cell_type": "markdown",
      "source": [
        "Tipos de funciones:\n",
        "\n",
        "1. Sin parámetros, sin retorno \n",
        "\n",
        "def manuel():\n",
        "  \n",
        "  print(\"Tome sus 5\")\n",
        "\n",
        "2. Sin parámetros, con retorno \n",
        "\n",
        "def nicolas():\n",
        "  \n",
        "  print(\"Hola Nicolás\")\n",
        " \n",
        "  a=5\n",
        "  \n",
        "  return a \n",
        "\n",
        "3. Con parámetros, sin retorno \n",
        "\n",
        "def holitas(a, \"b\", x=False):\n",
        "  \n",
        "  int a \n",
        " \n",
        "  b=string \n",
        "  \n",
        "  x=boolean \n",
        "\n",
        "  a =5\n",
        "  \n",
        "  print (\"Hola Nicolás\")\n",
        "\n",
        "4. Con parámetros, con retorno\n",
        "\n",
        "def holitas(a, \"b\", x=False):\n",
        "  \n",
        "  int a \n",
        " \n",
        "  b=string \n",
        "  \n",
        "  x=boolean \n",
        "\n",
        "  a =5\n",
        "  \n",
        "  print (\"Hola Nicolás\")\n"
      ],
      "metadata": {
        "id": "_x2Eikge1OXA"
      }
    },
    {
      "cell_type": "code",
      "execution_count": 3,
      "metadata": {
        "id": "2Ba9R7Gs0YF_"
      },
      "outputs": [],
      "source": [
        "def salude():\n",
        "  print(\"Saludar\")\n",
        "  print(\"Es de cracks\")"
      ]
    },
    {
      "cell_type": "code",
      "source": [
        "salude()"
      ],
      "metadata": {
        "colab": {
          "base_uri": "https://localhost:8080/"
        },
        "id": "eYT9FZgZ4nTP",
        "outputId": "9fa4160d-2910-4a11-c4dc-120b80824093"
      },
      "execution_count": 4,
      "outputs": [
        {
          "output_type": "stream",
          "name": "stdout",
          "text": [
            "Saludar\n",
            "Es de cracks\n"
          ]
        }
      ]
    },
    {
      "cell_type": "code",
      "source": [
        "a=int(input(\"Ingrese un número \"))\n",
        "b=int(input(\"Ingrese un número \"))\n",
        "c=int(input(\"Ingrese un número \"))\n",
        "\n",
        "if a!=b and a!=c and b!=c:\n",
        "  if a>b and a>c:\n",
        "    if b>c:\n",
        "      print(a, \"es el mayor\")\n",
        "      print(b, \"es el valor medio\")\n",
        "      print(c, \"es el valor menor\")\n",
        "    else:\n",
        "      print(a, \"es el mayor\")\n",
        "      print(c, \"es el valor medio\")\n",
        "      print(b, \"es el valor menor\")\n",
        "  elif b>a and b>c:\n",
        "    if a>c:\n",
        "      print(b, \"es el mayor\")\n",
        "      print(a, \"es el valor medio\")\n",
        "      print(c, \"es el valor menor\")\n",
        "    else:\n",
        "      print(b, \"es el mayor\")\n",
        "      print(c, \"es el valor medio\")\n",
        "      print(a, \"es el valor menor\")\n",
        "  if c>a and c>b:\n",
        "    if a>b:\n",
        "      print(c, \"es el mayor\")\n",
        "      print(a, \"es el valor medio\")\n",
        "      print(b, \"es el valor menor\")\n",
        "    else:\n",
        "      print(c, \"es el mayor\")\n",
        "      print(b, \"es el valor medio\")\n",
        "      print(a, \"es el valor menor\")\n",
        "\n",
        "else:\n",
        "  print(\"No se puede realizar el cálculo\")\n"
      ],
      "metadata": {
        "colab": {
          "base_uri": "https://localhost:8080/"
        },
        "id": "Kx-G2d-W5A3k",
        "outputId": "239d3aaf-b51b-4693-b925-b55fd3b98763"
      },
      "execution_count": 5,
      "outputs": [
        {
          "output_type": "stream",
          "name": "stdout",
          "text": [
            "Ingrese un número 5\n",
            "Ingrese un número 8\n",
            "Ingrese un número 6\n",
            "8 es el mayor\n",
            "6 es el valor medio\n",
            "5 es el valor menor\n"
          ]
        }
      ]
    },
    {
      "cell_type": "code",
      "source": [
        "def comparar(a, b, c):\n",
        "  if a!=b and a!=c and b!=c:\n",
        "    if a>b and a>c:\n",
        "      if b>c:\n",
        "        imprimir(a,b,c)\n",
        "      else:\n",
        "        imprimir(a,c,b)\n",
        "    elif b>a and b>c:\n",
        "      if a>c:\n",
        "        imprimir(b,a,c)\n",
        "      else:\n",
        "        imprimir(b,c,a)\n",
        "    if c>a and c>b:\n",
        "      if a>b:\n",
        "        imprimir(c,a,b)\n",
        "      else:\n",
        "        imprimir(c,b,a)\n",
        "\n",
        "  else:\n",
        "    print(\"No se puede realizar el cálculo\")\n",
        "  \n"
      ],
      "metadata": {
        "id": "vA55D9jPA91P"
      },
      "execution_count": 6,
      "outputs": []
    },
    {
      "cell_type": "code",
      "source": [
        "def imprimir(a,b,c):\n",
        "  print(a, \"es el valor mayor\")\n",
        "  print(b, \"es el valor medio\")\n",
        "  print(c, \"es el valor menor\")"
      ],
      "metadata": {
        "id": "ouwhTMlh_Ki3"
      },
      "execution_count": 4,
      "outputs": []
    },
    {
      "cell_type": "code",
      "source": [
        "\n",
        "  a=int(input(\"Ingrese un número\"))\n",
        "  b=int(input(\"Ingrese un número \"))\n",
        "  c=int(input(\"Ingrese un número \"))\n",
        "\n",
        "comparar(a,b,c)"
      ],
      "metadata": {
        "colab": {
          "base_uri": "https://localhost:8080/"
        },
        "id": "AilaIS3i7qUe",
        "outputId": "9beba0e4-a93d-4c99-ea72-f5464c5572c4"
      },
      "execution_count": 7,
      "outputs": [
        {
          "output_type": "stream",
          "name": "stdout",
          "text": [
            "Ingrese un número8\n",
            "Ingrese un número 9\n",
            "Ingrese un número 10\n",
            "10 es el valor mayor\n",
            "9 es el valor medio\n",
            "8 es el valor menor\n"
          ]
        }
      ]
    },
    {
      "cell_type": "code",
      "source": [
        "n=int(\"Ingrese algo \")\n",
        "v=str(\"Ingrese algo \")\n",
        "c=str(\"Ingrese algo \")\n"
      ],
      "metadata": {
        "id": "-7OHRNe78GKG"
      },
      "execution_count": null,
      "outputs": []
    },
    {
      "cell_type": "markdown",
      "source": [
        "Ejercicio vocal, número, consonante"
      ],
      "metadata": {
        "id": "Vm_b-56VKDmR"
      }
    },
    {
      "cell_type": "code",
      "source": [
        "def que_es(w):\n",
        " if type(w)==int:\n",
        "   print(\"Es un número\")\n",
        " elif type(w)==str and (w==\"a\" or w==\"e\" or w==\"i\" or w==\"o\" or w==\"u\"):\n",
        "   print(w , \"Es una vocal\")\n",
        " elif type(w)==str:\n",
        "   print(w, \"es una consonante\")\n",
        " else: \n",
        "  print(\"No es ni número, ni consonante, ni vocal\")"
      ],
      "metadata": {
        "id": "WmQKl8KRKeyo"
      },
      "execution_count": null,
      "outputs": []
    },
    {
      "cell_type": "code",
      "source": [
        "w=input(\"Escribe un numero\")\n",
        "que_es(w)"
      ],
      "metadata": {
        "id": "phSATyPMKiFA"
      },
      "execution_count": null,
      "outputs": []
    }
  ]
}