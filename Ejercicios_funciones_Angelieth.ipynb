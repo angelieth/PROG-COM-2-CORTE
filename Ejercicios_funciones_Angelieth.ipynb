{
  "nbformat": 4,
  "nbformat_minor": 0,
  "metadata": {
    "colab": {
      "provenance": []
    },
    "kernelspec": {
      "name": "python3",
      "display_name": "Python 3"
    },
    "language_info": {
      "name": "python"
    }
  },
  "cells": [
    {
      "cell_type": "markdown",
      "source": [
        "##Ejercicios Funciones "
      ],
      "metadata": {
        "id": "igU6YQo8pdr6"
      }
    },
    {
      "cell_type": "code",
      "execution_count": 5,
      "metadata": {
        "id": "wxQeJJzInBnt"
      },
      "outputs": [],
      "source": [
        "def npc(a,b):\n",
        "  if a>b:\n",
        "    print(f\" {a} es el mayor\") \n",
        "  else:\n",
        "    print (b, \"es el mayor\")"
      ]
    },
    {
      "cell_type": "code",
      "source": [
        "print(npc(4,5))"
      ],
      "metadata": {
        "colab": {
          "base_uri": "https://localhost:8080/"
        },
        "id": "BXO_Ks5unbWj",
        "outputId": "fd7535c2-ae1a-4617-e71f-cd80e7539f68"
      },
      "execution_count": 6,
      "outputs": [
        {
          "output_type": "stream",
          "name": "stdout",
          "text": [
            "5 es el mayor\n",
            "None\n"
          ]
        }
      ]
    },
    {
      "cell_type": "code",
      "source": [
        "def mayor (x,y,z):\n",
        "  npc(x, npc(y,z))"
      ],
      "metadata": {
        "id": "mXUd4kh1nsoz"
      },
      "execution_count": 7,
      "outputs": []
    },
    {
      "cell_type": "code",
      "source": [
        "print(mayor(4,5,6))"
      ],
      "metadata": {
        "colab": {
          "base_uri": "https://localhost:8080/",
          "height": 328
        },
        "id": "JLiOUto5oFEV",
        "outputId": "cd2ac4cf-4dd9-447b-8a21-f35951c63956"
      },
      "execution_count": 8,
      "outputs": [
        {
          "output_type": "stream",
          "name": "stdout",
          "text": [
            "6 es el mayor\n"
          ]
        },
        {
          "output_type": "error",
          "ename": "TypeError",
          "evalue": "ignored",
          "traceback": [
            "\u001b[0;31m---------------------------------------------------------------------------\u001b[0m",
            "\u001b[0;31mTypeError\u001b[0m                                 Traceback (most recent call last)",
            "\u001b[0;32m<ipython-input-8-52547e86f0e6>\u001b[0m in \u001b[0;36m<module>\u001b[0;34m\u001b[0m\n\u001b[0;32m----> 1\u001b[0;31m \u001b[0mprint\u001b[0m\u001b[0;34m(\u001b[0m\u001b[0mmayor\u001b[0m\u001b[0;34m(\u001b[0m\u001b[0;36m4\u001b[0m\u001b[0;34m,\u001b[0m\u001b[0;36m5\u001b[0m\u001b[0;34m,\u001b[0m\u001b[0;36m6\u001b[0m\u001b[0;34m)\u001b[0m\u001b[0;34m)\u001b[0m\u001b[0;34m\u001b[0m\u001b[0;34m\u001b[0m\u001b[0m\n\u001b[0m",
            "\u001b[0;32m<ipython-input-7-eeffe1fce7cc>\u001b[0m in \u001b[0;36mmayor\u001b[0;34m(x, y, z)\u001b[0m\n\u001b[1;32m      1\u001b[0m \u001b[0;32mdef\u001b[0m \u001b[0mmayor\u001b[0m \u001b[0;34m(\u001b[0m\u001b[0mx\u001b[0m\u001b[0;34m,\u001b[0m\u001b[0my\u001b[0m\u001b[0;34m,\u001b[0m\u001b[0mz\u001b[0m\u001b[0;34m)\u001b[0m\u001b[0;34m:\u001b[0m\u001b[0;34m\u001b[0m\u001b[0;34m\u001b[0m\u001b[0m\n\u001b[0;32m----> 2\u001b[0;31m   \u001b[0mnpc\u001b[0m\u001b[0;34m(\u001b[0m\u001b[0mx\u001b[0m\u001b[0;34m,\u001b[0m \u001b[0mnpc\u001b[0m\u001b[0;34m(\u001b[0m\u001b[0my\u001b[0m\u001b[0;34m,\u001b[0m\u001b[0mz\u001b[0m\u001b[0;34m)\u001b[0m\u001b[0;34m)\u001b[0m\u001b[0;34m\u001b[0m\u001b[0;34m\u001b[0m\u001b[0m\n\u001b[0m",
            "\u001b[0;32m<ipython-input-5-142fcda6253d>\u001b[0m in \u001b[0;36mnpc\u001b[0;34m(a, b)\u001b[0m\n\u001b[1;32m      1\u001b[0m \u001b[0;32mdef\u001b[0m \u001b[0mnpc\u001b[0m\u001b[0;34m(\u001b[0m\u001b[0ma\u001b[0m\u001b[0;34m,\u001b[0m\u001b[0mb\u001b[0m\u001b[0;34m)\u001b[0m\u001b[0;34m:\u001b[0m\u001b[0;34m\u001b[0m\u001b[0;34m\u001b[0m\u001b[0m\n\u001b[0;32m----> 2\u001b[0;31m   \u001b[0;32mif\u001b[0m \u001b[0ma\u001b[0m\u001b[0;34m>\u001b[0m\u001b[0mb\u001b[0m\u001b[0;34m:\u001b[0m\u001b[0;34m\u001b[0m\u001b[0;34m\u001b[0m\u001b[0m\n\u001b[0m\u001b[1;32m      3\u001b[0m     \u001b[0mprint\u001b[0m\u001b[0;34m(\u001b[0m\u001b[0;34mf\" {a} es el mayor\"\u001b[0m\u001b[0;34m)\u001b[0m\u001b[0;34m\u001b[0m\u001b[0;34m\u001b[0m\u001b[0m\n\u001b[1;32m      4\u001b[0m   \u001b[0;32melse\u001b[0m\u001b[0;34m:\u001b[0m\u001b[0;34m\u001b[0m\u001b[0;34m\u001b[0m\u001b[0m\n\u001b[1;32m      5\u001b[0m     \u001b[0mprint\u001b[0m \u001b[0;34m(\u001b[0m\u001b[0mb\u001b[0m\u001b[0;34m,\u001b[0m \u001b[0;34m\"es el mayor\"\u001b[0m\u001b[0;34m)\u001b[0m\u001b[0;34m\u001b[0m\u001b[0;34m\u001b[0m\u001b[0m\n",
            "\u001b[0;31mTypeError\u001b[0m: '>' not supported between instances of 'int' and 'NoneType'"
          ]
        }
      ]
    },
    {
      "cell_type": "markdown",
      "source": [
        "3. Sumar los números de una lista de 3 elementos. Ejemplo [3,4,5]. Salida: 12 "
      ],
      "metadata": {
        "id": "ijQGkgFpp8Kc"
      }
    },
    {
      "cell_type": "code",
      "source": [
        "numeros = [3,4,5]\n",
        "def suma(numeros):\n",
        "  resultado=(numeros[0]+numeros[1]+numeros[2])\n",
        "  print(resultado)"
      ],
      "metadata": {
        "id": "Pp3u3v5rp_kC"
      },
      "execution_count": 16,
      "outputs": []
    },
    {
      "cell_type": "code",
      "source": [
        "suma(numeros)"
      ],
      "metadata": {
        "colab": {
          "base_uri": "https://localhost:8080/"
        },
        "id": "4tzJKvwetjci",
        "outputId": "c4dd6a90-18da-405c-828e-4b038e3dd7fe"
      },
      "execution_count": 17,
      "outputs": [
        {
          "output_type": "stream",
          "name": "stdout",
          "text": [
            "12\n"
          ]
        }
      ]
    },
    {
      "cell_type": "markdown",
      "source": [
        "4. Sumar los números de una lista de 4 elementos. Ejemplo [3,4,5,6]. Salida: 18"
      ],
      "metadata": {
        "id": "mfOe4G9XuGKq"
      }
    },
    {
      "cell_type": "code",
      "source": [
        "lista = [3,4,5,6]\n",
        "def suma(lista):\n",
        "  resultado=(lista[0]+lista[1]+lista[2]+lista[3])\n",
        "  print(resultado)"
      ],
      "metadata": {
        "id": "W5bvYOYNuLMi"
      },
      "execution_count": 18,
      "outputs": []
    },
    {
      "cell_type": "code",
      "source": [
        "suma(lista)"
      ],
      "metadata": {
        "colab": {
          "base_uri": "https://localhost:8080/"
        },
        "id": "vIU7aSxOuagi",
        "outputId": "9493568f-2d49-4850-e8bb-f3f6693c9625"
      },
      "execution_count": 19,
      "outputs": [
        {
          "output_type": "stream",
          "name": "stdout",
          "text": [
            "18\n"
          ]
        }
      ]
    },
    {
      "cell_type": "markdown",
      "source": [
        "5. Sumar todos los números de una lista. Ejemplo: (8,5,3,1). Salida: 17"
      ],
      "metadata": {
        "id": "niCTDxq1ueQI"
      }
    },
    {
      "cell_type": "code",
      "source": [
        "lista = [15, 20, 50,40,8,10,13,36,50]\n",
        "def sumatotal(lista):\n",
        "  total=0\n",
        "  for i in lista:\n",
        "    total= total + i \n",
        "  print(total)"
      ],
      "metadata": {
        "id": "4BLL4pgRul4h"
      },
      "execution_count": 31,
      "outputs": []
    },
    {
      "cell_type": "code",
      "source": [
        "sumatotal(lista)"
      ],
      "metadata": {
        "colab": {
          "base_uri": "https://localhost:8080/"
        },
        "id": "f8v0K3OdzwEE",
        "outputId": "a3bab0f6-b4fe-4186-97e1-3f47774b1a5d"
      },
      "execution_count": 32,
      "outputs": [
        {
          "output_type": "stream",
          "name": "stdout",
          "text": [
            "242\n"
          ]
        }
      ]
    },
    {
      "cell_type": "markdown",
      "source": [
        "6. Multiplicar los números de una lista de 3 elementos. Ejemplo [0,4,5]. Salida: 0 "
      ],
      "metadata": {
        "id": "ixSnIKbLvKzJ"
      }
    },
    {
      "cell_type": "code",
      "source": [
        "lista = [0,4,5]\n",
        "def multiplicacion(lista):\n",
        "  resultado=(lista[0]*lista[1]*lista[2])\n",
        "  print(resultado)"
      ],
      "metadata": {
        "id": "No6zUImbvNJQ"
      },
      "execution_count": 27,
      "outputs": []
    },
    {
      "cell_type": "code",
      "source": [
        "multiplicacion(lista)"
      ],
      "metadata": {
        "colab": {
          "base_uri": "https://localhost:8080/"
        },
        "id": "NKx7xdejvX8T",
        "outputId": "621a2dbc-107c-411d-9ef4-fbd0edc0f7b1"
      },
      "execution_count": 28,
      "outputs": [
        {
          "output_type": "stream",
          "name": "stdout",
          "text": [
            "0\n"
          ]
        }
      ]
    },
    {
      "cell_type": "markdown",
      "source": [
        "7. Multiplicar los números de una lista de 4 elementos. Ejemplo [3,4,5,1]. Salida: 60"
      ],
      "metadata": {
        "id": "PPed1IWUvn8L"
      }
    },
    {
      "cell_type": "code",
      "source": [
        "lista = [3,4,5,1]\n",
        "def multiplicacion(lista):\n",
        "  resultado=(lista[0]*lista[1]*lista[2]*lista[3])\n",
        "  print(resultado)"
      ],
      "metadata": {
        "id": "GcoDGWmIvt8B"
      },
      "execution_count": 24,
      "outputs": []
    },
    {
      "cell_type": "code",
      "source": [
        "multiplicacion(lista)"
      ],
      "metadata": {
        "colab": {
          "base_uri": "https://localhost:8080/"
        },
        "id": "kj8OX05_v20J",
        "outputId": "ff198407-734e-40a0-b571-4ea342cb07bc"
      },
      "execution_count": 25,
      "outputs": [
        {
          "output_type": "stream",
          "name": "stdout",
          "text": [
            "60\n"
          ]
        }
      ]
    },
    {
      "cell_type": "markdown",
      "source": [
        "8. Multiplicar todos los números de una lista. Ejemplo: (1,2,3,-1). Salida: -6"
      ],
      "metadata": {
        "id": "5t-cD-fswdxJ"
      }
    },
    {
      "cell_type": "code",
      "source": [
        "lista = [15, 2, 3]\n",
        "def multiplicaion(lista):\n",
        "  total=0\n",
        "  for i in lista:\n",
        "    total= total * i \n",
        "  print(total)"
      ],
      "metadata": {
        "id": "UgmPuQh7wpdY"
      },
      "execution_count": 37,
      "outputs": []
    },
    {
      "cell_type": "code",
      "source": [
        "multiplicacion(lista)"
      ],
      "metadata": {
        "colab": {
          "base_uri": "https://localhost:8080/"
        },
        "id": "B5VNVeYh0J9j",
        "outputId": "6022f076-fc8e-4fcc-a17b-9ff975457b24"
      },
      "execution_count": 38,
      "outputs": [
        {
          "output_type": "stream",
          "name": "stdout",
          "text": [
            "90\n"
          ]
        }
      ]
    },
    {
      "cell_type": "markdown",
      "source": [
        "9. Invierta un String. Ejemplo: ingresa Hola y retorna aloH"
      ],
      "metadata": {
        "id": "We3zyBXMwp0Z"
      }
    },
    {
      "cell_type": "code",
      "source": [
        "a=str(input(\"ingrese una palalbra\"))\n",
        "def invertido(palabra):\n",
        "  largo=len(palabra)\n",
        "  largo=a[largo::-1]\n",
        "  print(largo)"
      ],
      "metadata": {
        "colab": {
          "base_uri": "https://localhost:8080/"
        },
        "id": "iizguN0kwtSJ",
        "outputId": "11916d2b-eb0e-4e7b-f5a0-98f28f3ca205"
      },
      "execution_count": 49,
      "outputs": [
        {
          "name": "stdout",
          "output_type": "stream",
          "text": [
            "ingrese una palalbraHola \n"
          ]
        }
      ]
    },
    {
      "cell_type": "code",
      "source": [
        "invertido(a)"
      ],
      "metadata": {
        "colab": {
          "base_uri": "https://localhost:8080/"
        },
        "id": "Q-wzBGP64qLt",
        "outputId": "02f0e114-a202-41c6-8d28-162c2b7b0518"
      },
      "execution_count": 50,
      "outputs": [
        {
          "output_type": "stream",
          "name": "stdout",
          "text": [
            " aloH\n"
          ]
        }
      ]
    },
    {
      "cell_type": "markdown",
      "source": [
        "10. Calcular el factorial de un número"
      ],
      "metadata": {
        "id": "EqJTLaT42VSa"
      }
    },
    {
      "cell_type": "code",
      "source": [
        "def factorial(a):\n",
        "  multiplicacion=1\n",
        "  for i in range(1, a+1):\n",
        "    multiplicacion= multiplicacion*i \n",
        "  print(multiplicacion)\n"
      ],
      "metadata": {
        "id": "jGCKUNcB2bnh"
      },
      "execution_count": 45,
      "outputs": []
    },
    {
      "cell_type": "code",
      "source": [
        "factorial(4)"
      ],
      "metadata": {
        "colab": {
          "base_uri": "https://localhost:8080/"
        },
        "id": "ZyDa1Mr_3v9l",
        "outputId": "60761199-c1c9-475f-b971-fff70d6ac63c"
      },
      "execution_count": 52,
      "outputs": [
        {
          "output_type": "stream",
          "name": "stdout",
          "text": [
            "24\n"
          ]
        }
      ]
    },
    {
      "cell_type": "markdown",
      "source": [
        "11. Si un número está dentro de un rango."
      ],
      "metadata": {
        "id": "jqNOapoG5gWh"
      }
    },
    {
      "cell_type": "code",
      "source": [
        "x=int(input(\"Ingresa un número \"))\n",
        "\n",
        "def existe(a,b):\n",
        "  if x>=a and x<=b:\n",
        "    print(x, \"está en el rango\")\n",
        "  else:\n",
        "    print(x, \"No está en el rango\")"
      ],
      "metadata": {
        "colab": {
          "base_uri": "https://localhost:8080/"
        },
        "id": "Gy4uHJqh5y24",
        "outputId": "3b596279-8f10-4534-ec3f-292a24b98ba0"
      },
      "execution_count": 63,
      "outputs": [
        {
          "name": "stdout",
          "output_type": "stream",
          "text": [
            "Ingresa un número 4\n"
          ]
        }
      ]
    },
    {
      "cell_type": "code",
      "source": [
        "existe(0,5)"
      ],
      "metadata": {
        "colab": {
          "base_uri": "https://localhost:8080/"
        },
        "id": "foaWAHFC8f1f",
        "outputId": "7925eb2a-7a28-44fc-c215-a7b11f0a9ff2"
      },
      "execution_count": 64,
      "outputs": [
        {
          "output_type": "stream",
          "name": "stdout",
          "text": [
            "4 está en el rango\n"
          ]
        }
      ]
    },
    {
      "cell_type": "markdown",
      "source": [
        "14. Reciba una lista y retorne sólo los elementos pares"
      ],
      "metadata": {
        "id": "qMe8IZKv6lnq"
      }
    },
    {
      "cell_type": "code",
      "source": [
        "numeros=[1,2,3,4,5,6,7,8]\n",
        "def pares(numeros):\n",
        " w=len(numeros)\n",
        " for i in range(0, w):\n",
        "   if numeros[i]%2==0:\n",
        "    print(numeros[i])\n",
        "\n",
        "pares(numeros)"
      ],
      "metadata": {
        "colab": {
          "base_uri": "https://localhost:8080/"
        },
        "id": "xpf15hOE6nwi",
        "outputId": "80d59ee7-7064-4563-a303-508c30a3e571"
      },
      "execution_count": 70,
      "outputs": [
        {
          "output_type": "stream",
          "name": "stdout",
          "text": [
            "2\n",
            "4\n",
            "6\n",
            "8\n"
          ]
        }
      ]
    },
    {
      "cell_type": "markdown",
      "source": [
        "15. Reciba una lista y retorne sólo los elementos de posición impar"
      ],
      "metadata": {
        "id": "doLNI6YtAuEY"
      }
    },
    {
      "cell_type": "code",
      "source": [
        "lista=[2,5,8,3,6,15,17]\n",
        "def totalimpares(impares):\n",
        "  w=len(impares)\n",
        "  for i in range(0, w, 2):\n",
        "    print(impares[i])\n",
        "\n",
        "totalimpares(lista)"
      ],
      "metadata": {
        "colab": {
          "base_uri": "https://localhost:8080/"
        },
        "id": "3ropJuAnAwUI",
        "outputId": "ea89aa1a-9771-4863-d959-9ce94af139a6"
      },
      "execution_count": 71,
      "outputs": [
        {
          "output_type": "stream",
          "name": "stdout",
          "text": [
            "2\n",
            "8\n",
            "6\n",
            "17\n"
          ]
        }
      ]
    }
  ]
}