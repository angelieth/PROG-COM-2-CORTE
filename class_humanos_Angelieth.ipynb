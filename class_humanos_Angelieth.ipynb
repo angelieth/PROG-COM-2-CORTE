{
  "nbformat": 4,
  "nbformat_minor": 0,
  "metadata": {
    "colab": {
      "provenance": []
    },
    "kernelspec": {
      "name": "python3",
      "display_name": "Python 3"
    },
    "language_info": {
      "name": "python"
    }
  },
  "cells": [
    {
      "cell_type": "code",
      "source": [
        "class Humanos():\n",
        "  def __init__(self,nombre,edad,cuerpo,pierna,brazos,ojos,cabello,nariz,color_piel):\n",
        "    self.nombre=nombre\n",
        "    self.edad=edad\n",
        "    self.cuerpo=cuerpo\n",
        "    self.pierna=pierna\n",
        "    self.brazos=brazos\n",
        "    self.ojos=ojos\n",
        "    self.cabello=cabello\n",
        "    self.nariz=nariz\n",
        "    self.color_piel=color_piel\n",
        "  \n",
        "  def caminar(self,velocidad):\n",
        "    if velocidad==0:\n",
        "      return f\"{self.nombre} posiblemente está sentado o estado de reposo\"\n",
        "    if velocidad>0.5 and velocidad<1:\n",
        "      return f\"{self.nombre} está gateando\"\n",
        "    elif velocidad>2 and velocidad<5:\n",
        "      return f\"{self.nombre} está caminando\"\n",
        "    elif velocidad>=5 and velocidad<7:\n",
        "      return f\"{self.nombre} está trotando\"\n",
        "    elif velocidad>=7 and velocidad<10:\n",
        "      return f\"{self.nombre} está corriendo\"\n",
        "    elif velocidad>=1 and velocidad<2:\n",
        "      return f\"{self.nombre} está cojeando\"\n",
        "    else:\n",
        "      return f\"{self.nombre} está volando\"\n",
        "  \n",
        "  def comer(self,saciedad):\n",
        "    if saciedad==0:\n",
        "      return f\"{self.nombre} tengo hambre\"\n",
        "    elif saciedad>0 and saciedad<1:\n",
        "      return f\"{self.nombre} sigo con hambre pero no tanta\"\n",
        "    elif saciedad>=1 and saciedad<2:\n",
        "      return f\"{self.nombre} sigo con hambre pero poquita\"\n",
        "    elif saciedad>=2 and saciedad<3:\n",
        "      return f\"{self.nombre} estoy algo saciado\"\n",
        "    elif saciedad>=3 and saciedad<4:\n",
        "      return f\"{self.nombre} estoy bien\"\n",
        "    else:\n",
        "      return f\"{self.nombre} estoy lleno D;\"\n",
        "    \n",
        "    \n"
      ],
      "metadata": {
        "id": "cm4f2BsySZjF"
      },
      "execution_count": 1,
      "outputs": []
    },
    {
      "cell_type": "code",
      "source": [
        "estudiante=Humanos(\"Pepito perez\",16,\"delgado\",2,2,\"azules\",\"rubio y corto\",1,\"beige\")\n",
        "estudiante.__dict__"
      ],
      "metadata": {
        "colab": {
          "base_uri": "https://localhost:8080/"
        },
        "id": "6ifnwTLtWLJd",
        "outputId": "a5a7ab24-e058-42dc-f45d-f5517dcf7b7e"
      },
      "execution_count": 6,
      "outputs": [
        {
          "output_type": "execute_result",
          "data": {
            "text/plain": [
              "{'nombre': 'Pepito perez',\n",
              " 'edad': 16,\n",
              " 'cuerpo': 'delgado',\n",
              " 'pierna': 2,\n",
              " 'brazos': 2,\n",
              " 'ojos': 'azules',\n",
              " 'cabello': 'rubio y corto',\n",
              " 'nariz': 1,\n",
              " 'color_piel': 'beige'}"
            ]
          },
          "metadata": {},
          "execution_count": 6
        }
      ]
    },
    {
      "cell_type": "code",
      "source": [
        "estudiante.caminar(7)"
      ],
      "metadata": {
        "colab": {
          "base_uri": "https://localhost:8080/",
          "height": 36
        },
        "id": "kijefX7KXAVr",
        "outputId": "d05e935b-408c-4d35-ac10-8e0385f1c671"
      },
      "execution_count": 8,
      "outputs": [
        {
          "output_type": "execute_result",
          "data": {
            "text/plain": [
              "'Pepito perez está corriendo'"
            ],
            "application/vnd.google.colaboratory.intrinsic+json": {
              "type": "string"
            }
          },
          "metadata": {},
          "execution_count": 8
        }
      ]
    },
    {
      "cell_type": "code",
      "source": [
        "estudiante.comer(3)"
      ],
      "metadata": {
        "colab": {
          "base_uri": "https://localhost:8080/",
          "height": 36
        },
        "id": "yONxm35AXcdJ",
        "outputId": "27ba9d21-7843-422c-803d-dd3edb804660"
      },
      "execution_count": 9,
      "outputs": [
        {
          "output_type": "execute_result",
          "data": {
            "text/plain": [
              "'Pepito perez estoy bien'"
            ],
            "application/vnd.google.colaboratory.intrinsic+json": {
              "type": "string"
            }
          },
          "metadata": {},
          "execution_count": 9
        }
      ]
    }
  ]
}