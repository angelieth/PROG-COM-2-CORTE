{
  "nbformat": 4,
  "nbformat_minor": 0,
  "metadata": {
    "colab": {
      "provenance": []
    },
    "kernelspec": {
      "name": "python3",
      "display_name": "Python 3"
    },
    "language_info": {
      "name": "python"
    }
  },
  "cells": [
    {
      "cell_type": "markdown",
      "source": [
        "##POO o programación orientada a objetos \n",
        "Clase es como un molde \n",
        "\n",
        "*   Variables --> Atributos \n",
        "*   Funciones --> Métodos \n",
        "*   Constructor --> Constituye una clase\n",
        "*   Objetos: Comparten atributos, métodos, relaciones que tienen una identidad propia\n",
        "\n",
        "\n",
        "\n",
        "\n"
      ],
      "metadata": {
        "id": "fLUxIPU9ELqy"
      }
    },
    {
      "cell_type": "code",
      "execution_count": 2,
      "metadata": {
        "id": "48F73T4GEKqf"
      },
      "outputs": [],
      "source": [
        "class Mascotas:\n",
        "  pass\n",
        "#pass sirve para que el compilador de error por falta de constructor "
      ]
    },
    {
      "cell_type": "code",
      "source": [
        "a=Mascotas\n",
        "b=Mascotas "
      ],
      "metadata": {
        "id": "XsqmgjT1FOt6"
      },
      "execution_count": 3,
      "outputs": []
    },
    {
      "cell_type": "code",
      "source": [
        "if a==b: \n",
        "  print(\"Son igualitos\")\n",
        "else:\n",
        "  print(\"No son igualitos\")"
      ],
      "metadata": {
        "colab": {
          "base_uri": "https://localhost:8080/"
        },
        "id": "DClSu19UGfoO",
        "outputId": "77c70640-ebd0-4231-a67a-5fc3be2c57f9"
      },
      "execution_count": 4,
      "outputs": [
        {
          "output_type": "stream",
          "name": "stdout",
          "text": [
            "Son igualitos\n"
          ]
        }
      ]
    },
    {
      "cell_type": "code",
      "source": [
        "class Empleado():\n",
        "  #Construyendo un constructor \n",
        "  def __init__(self, nombre, edad, ID, salario):\n",
        "    self.nombre=nombre\n",
        "    self.edad=edad\n",
        "    self.ID=ID\n",
        "    self.salario=salario \n",
        "  \n",
        "  def __repr__(self):\n",
        "    return f\"nombre:{self.nombre}, edad:{self.edad}, ID:{self.ID}, salario:{self.salario}\""
      ],
      "metadata": {
        "id": "GnsqWez9HAuJ"
      },
      "execution_count": 13,
      "outputs": []
    },
    {
      "cell_type": "code",
      "source": [
        "sonia=Empleado(\"Sonia\", 25, \"U00152314\", 10000000)"
      ],
      "metadata": {
        "id": "-lmBNkXbHtBt"
      },
      "execution_count": 14,
      "outputs": []
    },
    {
      "cell_type": "code",
      "source": [
        "print(sonia)"
      ],
      "metadata": {
        "colab": {
          "base_uri": "https://localhost:8080/"
        },
        "id": "uFSCVe-6IIuz",
        "outputId": "65f41005-f4d0-4bee-82f8-1beef33212b8"
      },
      "execution_count": 15,
      "outputs": [
        {
          "output_type": "stream",
          "name": "stdout",
          "text": [
            "nombre:Sonia, edad:25, ID:U00152314, salario:10000000\n"
          ]
        }
      ]
    },
    {
      "cell_type": "code",
      "source": [
        "sonia.nombre"
      ],
      "metadata": {
        "colab": {
          "base_uri": "https://localhost:8080/",
          "height": 35
        },
        "id": "e07dCsRdIYu2",
        "outputId": "17d741f9-199b-4af1-a267-9f87e84e472d"
      },
      "execution_count": 16,
      "outputs": [
        {
          "output_type": "execute_result",
          "data": {
            "text/plain": [
              "'Sonia'"
            ],
            "application/vnd.google.colaboratory.intrinsic+json": {
              "type": "string"
            }
          },
          "metadata": {},
          "execution_count": 16
        }
      ]
    },
    {
      "cell_type": "code",
      "source": [
        "sonia.__dict__"
      ],
      "metadata": {
        "colab": {
          "base_uri": "https://localhost:8080/"
        },
        "id": "pdqO3M7PIfmW",
        "outputId": "424ccd23-5013-404a-d08c-7bc7c026c3db"
      },
      "execution_count": 17,
      "outputs": [
        {
          "output_type": "execute_result",
          "data": {
            "text/plain": [
              "{'nombre': 'Sonia', 'edad': 25, 'ID': 'U00152314', 'salario': 10000000}"
            ]
          },
          "metadata": {},
          "execution_count": 17
        }
      ]
    },
    {
      "cell_type": "code",
      "source": [
        "madaniel=Empleado(\"Pirulais\", 83, \"U001512345\", 1000000)"
      ],
      "metadata": {
        "id": "Z7BB8CJbJPIo"
      },
      "execution_count": 18,
      "outputs": []
    },
    {
      "cell_type": "code",
      "source": [
        "if sonia.salario==madaniel.salario:\n",
        "  print(f\"El salario de {madaniel.nombre} y {sonia.nombre} son iguales\")\n",
        "elif sonia.salario>madaniel.salario:\n",
        "  print(f\"El salario de {madaniel.nombre} es menor que el de  {sonia.nombre}\")\n",
        "else:\n",
        "  print(f\"El salario de {madaniel.nombre} es mayor que el de {sonia.nombre}\")"
      ],
      "metadata": {
        "colab": {
          "base_uri": "https://localhost:8080/"
        },
        "id": "udk6JlILOhKA",
        "outputId": "5229ff64-90d9-4b80-d60b-b270ecf0632f"
      },
      "execution_count": 19,
      "outputs": [
        {
          "output_type": "stream",
          "name": "stdout",
          "text": [
            "El salario de Pirulais es menor que el de  Sonia\n"
          ]
        }
      ]
    },
    {
      "cell_type": "markdown",
      "source": [
        "#Ejercicio Calculadora"
      ],
      "metadata": {
        "id": "dpKYM0h7PT6M"
      }
    },
    {
      "cell_type": "code",
      "source": [
        "class Fraccion:\n",
        "  #Atributos de clase \n",
        "  num=0\n",
        "  den=1\n",
        "\n",
        "  #Creando el constructor \n",
        "  def __init__ (self, num=0, den=1):\n",
        "    self.num=num\n",
        "    self.den=den \n",
        "\n",
        "  def multiplica(self, b):\n",
        "    num=self.num*b.num\n",
        "    den=self.den*b.den\n",
        "    r=Fraccion(num, den)\n",
        "    return r\n",
        "\n",
        "  def imprime(self):\n",
        "    print(self.num, \"/\", self.den)"
      ],
      "metadata": {
        "id": "M4WalH2hPY_f"
      },
      "execution_count": 30,
      "outputs": []
    },
    {
      "cell_type": "code",
      "source": [
        "#Creando objetos tipo fracción\n",
        "a1=Fraccion(4,5)\n",
        "a2=Fraccion(8,9)"
      ],
      "metadata": {
        "id": "Su1cGPugR2jQ"
      },
      "execution_count": 31,
      "outputs": []
    },
    {
      "cell_type": "code",
      "source": [
        "a1.imprime()\n",
        "a2.imprime()"
      ],
      "metadata": {
        "colab": {
          "base_uri": "https://localhost:8080/"
        },
        "id": "Oteyp9mLSK8-",
        "outputId": "080d850a-eaec-479e-b232-d462b895508f"
      },
      "execution_count": 27,
      "outputs": [
        {
          "output_type": "stream",
          "name": "stdout",
          "text": [
            "4 / 5\n",
            "8 / 9\n"
          ]
        }
      ]
    },
    {
      "cell_type": "code",
      "source": [
        "c=a1.multiplica(a2)\n",
        "c.imprime()"
      ],
      "metadata": {
        "colab": {
          "base_uri": "https://localhost:8080/"
        },
        "id": "dBvWBl1PS7yZ",
        "outputId": "8d3a3cbd-8477-4e31-cb66-b5b6ccd1430e"
      },
      "execution_count": 34,
      "outputs": [
        {
          "output_type": "stream",
          "name": "stdout",
          "text": [
            "32 / 45\n"
          ]
        }
      ]
    },
    {
      "cell_type": "markdown",
      "source": [
        "Hacer \n",
        "*   Potencia\n",
        "*   Suma \n",
        "*   Resta\n",
        "*   División \n",
        "\n",
        "\n",
        "\n"
      ],
      "metadata": {
        "id": "tiH8rp5XU3dj"
      }
    }
  ]
}