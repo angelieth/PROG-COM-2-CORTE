{
  "nbformat": 4,
  "nbformat_minor": 0,
  "metadata": {
    "colab": {
      "provenance": []
    },
    "kernelspec": {
      "name": "python3",
      "display_name": "Python 3"
    },
    "language_info": {
      "name": "python"
    }
  },
  "cells": [
    {
      "cell_type": "markdown",
      "source": [
        "##**Lista por comprensión**"
      ],
      "metadata": {
        "id": "c7qg0Lmy-0Am"
      }
    },
    {
      "cell_type": "markdown",
      "source": [
        "######Teoría by Daniel \n",
        "\n",
        "Sintaxis newlist=[expresión(elemento) for n in oldList si condición)\n",
        "\n",
        "Técnicamente es colocar primero la expresión u operación y luego la condición. "
      ],
      "metadata": {
        "id": "CrDAUXYQE2bh"
      }
    },
    {
      "cell_type": "code",
      "execution_count": null,
      "metadata": {
        "colab": {
          "base_uri": "https://localhost:8080/"
        },
        "id": "kQO-gSGO-zJJ",
        "outputId": "46c4cd47-1555-4cfd-e9ba-697238306d15"
      },
      "outputs": [
        {
          "output_type": "stream",
          "name": "stdout",
          "text": [
            "[2, 4, 6, 8, 10, 12, 14, 16]\n"
          ]
        }
      ],
      "source": [
        "numeros=[(n*2) for n in range (1,9)]\n",
        "print(numeros)"
      ]
    },
    {
      "cell_type": "markdown",
      "source": [
        "####**Ventajas:**\n",
        "\n",
        "*   Más eficiente en tiempo y espacio que los bucles.\n",
        "*   Requiere menos líneas de código. \n",
        "*   Transforma una declaración iterativa en una fórmula. "
      ],
      "metadata": {
        "id": "WGtQ5L4b_1Ys"
      }
    },
    {
      "cell_type": "code",
      "source": [
        "cadenas=[\"*\" * n for n in range(1,6)]\n",
        "print(cadenas)"
      ],
      "metadata": {
        "colab": {
          "base_uri": "https://localhost:8080/"
        },
        "id": "d-C1pMDoAjd7",
        "outputId": "7e127c25-912d-4b81-d4a1-9bcc587e2080"
      },
      "execution_count": null,
      "outputs": [
        {
          "output_type": "stream",
          "name": "stdout",
          "text": [
            "['*', '**', '***', '****', '*****']\n"
          ]
        }
      ]
    },
    {
      "cell_type": "code",
      "source": [
        "numero=[2,5,6,9,10]\n",
        "cuadrados=[(n**2) for n in numero]\n",
        "print(cuadrados)"
      ],
      "metadata": {
        "colab": {
          "base_uri": "https://localhost:8080/"
        },
        "id": "ES82By3RBA04",
        "outputId": "8c2f1f14-efcf-4711-f683-4bde4680d496"
      },
      "execution_count": null,
      "outputs": [
        {
          "output_type": "stream",
          "name": "stdout",
          "text": [
            "[4, 25, 36, 81, 100]\n"
          ]
        }
      ]
    },
    {
      "cell_type": "code",
      "source": [
        "cadena= \"programación\"\n",
        "letras=[]\n",
        "for letra in cadena:\n",
        "  letras.append(letra)\n",
        "\n",
        "  print(letras)"
      ],
      "metadata": {
        "colab": {
          "base_uri": "https://localhost:8080/"
        },
        "id": "rkxVk2WkCsJg",
        "outputId": "98651efa-b713-4d88-cc02-09e040843c8f"
      },
      "execution_count": null,
      "outputs": [
        {
          "output_type": "stream",
          "name": "stdout",
          "text": [
            "['p']\n",
            "['p', 'r']\n",
            "['p', 'r', 'o']\n",
            "['p', 'r', 'o', 'g']\n",
            "['p', 'r', 'o', 'g', 'r']\n",
            "['p', 'r', 'o', 'g', 'r', 'a']\n",
            "['p', 'r', 'o', 'g', 'r', 'a', 'm']\n",
            "['p', 'r', 'o', 'g', 'r', 'a', 'm', 'a']\n",
            "['p', 'r', 'o', 'g', 'r', 'a', 'm', 'a', 'c']\n",
            "['p', 'r', 'o', 'g', 'r', 'a', 'm', 'a', 'c', 'i']\n",
            "['p', 'r', 'o', 'g', 'r', 'a', 'm', 'a', 'c', 'i', 'ó']\n",
            "['p', 'r', 'o', 'g', 'r', 'a', 'm', 'a', 'c', 'i', 'ó', 'n']\n"
          ]
        }
      ]
    },
    {
      "cell_type": "code",
      "source": [
        "cadena= \"python\"\n",
        "letras =[letra for letra in cadena]\n",
        "print(letras)"
      ],
      "metadata": {
        "colab": {
          "base_uri": "https://localhost:8080/"
        },
        "id": "vu00tdCyDQNe",
        "outputId": "d01afa93-86d0-4a90-91ec-52fdc6536462"
      },
      "execution_count": null,
      "outputs": [
        {
          "output_type": "stream",
          "name": "stdout",
          "text": [
            "['p', 'y', 't', 'h', 'o', 'n']\n"
          ]
        }
      ]
    },
    {
      "cell_type": "code",
      "source": [
        "#Ejercicio by Samuel \n",
        "x=input(\"Ingrese la palabra que desee: \")\n",
        "lista=[n for n in x]\n",
        "print(lista)"
      ],
      "metadata": {
        "colab": {
          "base_uri": "https://localhost:8080/"
        },
        "id": "pY6KfOQhDh0u",
        "outputId": "4d5eccaa-37eb-430a-8c9d-4b97b5917fb1"
      },
      "execution_count": null,
      "outputs": [
        {
          "output_type": "stream",
          "name": "stdout",
          "text": [
            "Ingrese la palabra que desee: araña\n",
            "['a', 'r', 'a', 'ñ', 'a']\n"
          ]
        }
      ]
    },
    {
      "cell_type": "code",
      "source": [
        "#Ejercicio by Daniel Amado\n",
        "lista1=[2,7,10,9,8]\n",
        "lista2=[elementos**2 for elementos in lista1 if elementos%2==0]\n",
        "print(\"Nueva lista\", lista2)"
      ],
      "metadata": {
        "colab": {
          "base_uri": "https://localhost:8080/"
        },
        "id": "ts6anNVcDy3d",
        "outputId": "0ed2f147-fe59-4b1e-a0da-e945c5971fa9"
      },
      "execution_count": null,
      "outputs": [
        {
          "output_type": "stream",
          "name": "stdout",
          "text": [
            "Nueva lista [4, 100, 64]\n"
          ]
        }
      ]
    },
    {
      "cell_type": "code",
      "source": [
        "#Ejercicio Iván \n",
        "import random \n",
        "capitan = [random.randrange(1,30) for i in range(9)]\n",
        "print(\"Números aleatorios de la lista:\", str(capitan))"
      ],
      "metadata": {
        "colab": {
          "base_uri": "https://localhost:8080/"
        },
        "id": "iZF-oWDUERDt",
        "outputId": "40853ad6-4144-4d14-ade0-b8d1f8665d0e"
      },
      "execution_count": null,
      "outputs": [
        {
          "output_type": "stream",
          "name": "stdout",
          "text": [
            "Números aleatorios de la lista: [15, 4, 8, 14, 8, 4, 16, 4, 12]\n"
          ]
        }
      ]
    },
    {
      "cell_type": "code",
      "source": [
        "#Ejercicio Juan Pablo\n",
        "precios=[]\n",
        "print(\"Ingree los números de los que quieres hacer un descuento \")\n",
        "det=True\n",
        "while det:\n",
        "  num=int(input(' si no desea agregar más números dígite 0 '))\n",
        "  precios.append(num)\n",
        "  det = False if num ==0 else num>0\n",
        "des=float(input(print('Ingrese el descuento sin el % ')))\n",
        "presdes=[precio*des/100 for precio in precios]\n",
        "presdes.pop(-1) #.pop para no tomar un valor determinado de una lista\n",
        "print(\"este es el valor que debes restar a cada número\", presdes)"
      ],
      "metadata": {
        "colab": {
          "base_uri": "https://localhost:8080/"
        },
        "id": "RRprXr3pFPd0",
        "outputId": "09323e11-fbd1-41aa-aadb-45876926532c"
      },
      "execution_count": null,
      "outputs": [
        {
          "output_type": "stream",
          "name": "stdout",
          "text": [
            "Ingree los números de los que quieres hacer un descuento \n",
            " si no desea agregar más números dígite 0 0\n",
            "Ingrese el descuento sin el % \n",
            "None20\n",
            "este es el valor que debes restar a cada número []\n"
          ]
        }
      ]
    },
    {
      "cell_type": "code",
      "source": [
        "#Ejercicio Acuña \n",
        "num=[]\n",
        "for i in range(6):\n",
        "  num.append(int(input(\"Introduce el número ganador\" )))\n",
        "num.sort()\n",
        "print(\"Los números ganadores del balato son: \"+str(num))"
      ],
      "metadata": {
        "colab": {
          "base_uri": "https://localhost:8080/"
        },
        "id": "KYxTF21fHsuK",
        "outputId": "df1579a3-533f-42a6-f867-1eb8f2782683"
      },
      "execution_count": null,
      "outputs": [
        {
          "output_type": "stream",
          "name": "stdout",
          "text": [
            "Introduce el número ganador12\n",
            "Introduce el número ganador5\n",
            "Introduce el número ganador8\n",
            "Introduce el número ganador26\n",
            "Introduce el número ganador27\n",
            "Introduce el número ganador6\n",
            "Los números ganadores del balato son: [5, 6, 8, 12, 26, 27]\n"
          ]
        }
      ]
    },
    {
      "cell_type": "markdown",
      "source": [
        "#**Segunda clase**\n",
        "###Por cada ejercicio se presentan diferentes formas de resolver mediante el método tradicional, por comprensión, lambda y map. "
      ],
      "metadata": {
        "id": "qM-_9KdHxV4j"
      }
    },
    {
      "cell_type": "markdown",
      "source": [
        "###**Ejercicio Julito** "
      ],
      "metadata": {
        "id": "xHhBNPKnyLKh"
      }
    },
    {
      "cell_type": "code",
      "source": [
        "#Forma tradicional \n",
        "n=int(input(\"Ingresa el número de palabras que vas a ingresar \"))\n",
        "x=0\n",
        "lista=[]\n",
        "lista1=[]\n",
        "for i in range(n):\n",
        "  l=input(\"Ingresa la palabra \")\n",
        "  if l.isupper():lista.append(l)\n",
        "  if l.islower():lista1.append(l)"
      ],
      "metadata": {
        "colab": {
          "base_uri": "https://localhost:8080/"
        },
        "id": "F_E4AdRnySm7",
        "outputId": "301a065f-a9d9-4000-fd6e-a1d86d6130c3"
      },
      "execution_count": 7,
      "outputs": [
        {
          "name": "stdout",
          "output_type": "stream",
          "text": [
            "Ingresa el número de palabras que vas a ingresar 2\n",
            "Ingresa la palabra fresa\n",
            "Ingresa la palabra CAL\n"
          ]
        }
      ]
    },
    {
      "cell_type": "code",
      "source": [
        "lista"
      ],
      "metadata": {
        "colab": {
          "base_uri": "https://localhost:8080/"
        },
        "id": "VHh5dy45zwzP",
        "outputId": "af773e55-97b6-4bae-f324-07313942fc3a"
      },
      "execution_count": 8,
      "outputs": [
        {
          "output_type": "execute_result",
          "data": {
            "text/plain": [
              "['CAL']"
            ]
          },
          "metadata": {},
          "execution_count": 8
        }
      ]
    },
    {
      "cell_type": "code",
      "source": [
        "lista1"
      ],
      "metadata": {
        "colab": {
          "base_uri": "https://localhost:8080/"
        },
        "id": "-8BquImA0c7O",
        "outputId": "692efd06-76e8-44c3-89e5-9b64970ddf40"
      },
      "execution_count": 9,
      "outputs": [
        {
          "output_type": "execute_result",
          "data": {
            "text/plain": [
              "['fresa']"
            ]
          },
          "metadata": {},
          "execution_count": 9
        }
      ]
    },
    {
      "cell_type": "code",
      "source": [
        "#Por comprensión \n",
        "n=int(input(\"Ingresa el número de palabras que va a ingresar \"))\n",
        "lista=[]\n",
        "for i in range(n):\n",
        "  l=input(\"Ingrese la palabra \")\n",
        "  lista.append(l)\n",
        "\n",
        "lista_comprimida_M=[elemento for elemento in lista if elemento.isupper()]\n",
        "lista_comprimida_m=[elemento for elemento in lista if elemento.islower()]\n",
        "\n",
        "print(\"Las palabras escritas en mayúsculas son \")\n",
        "print(lista_comprimida_M)\n",
        "print(\"Las palabras escritas en minúscula son \")\n",
        "print(lista_comprimida_m)"
      ],
      "metadata": {
        "colab": {
          "base_uri": "https://localhost:8080/"
        },
        "id": "fBALm7sN0pjZ",
        "outputId": "f6ef5dd3-4bd3-4458-84e1-16cb031dfe37"
      },
      "execution_count": 14,
      "outputs": [
        {
          "output_type": "stream",
          "name": "stdout",
          "text": [
            "Ingresa el número de palabras que va a ingresar 2\n",
            "Ingrese la palabra fresa\n",
            "Ingrese la palabra COLOR \n",
            "Las palabras escritas en mayúsculas son \n",
            "['COLOR ']\n",
            "Las palabras escritas en minúscula son \n",
            "['fresa']\n"
          ]
        }
      ]
    },
    {
      "cell_type": "code",
      "source": [
        "#Por lambda \n",
        "lista_comprimida_M=list(map(lambda elemento:True if elemento.isupper() else False, lista))\n",
        "lista_comprimida_m=list(map(lambda elemento:True  if elemento.islower() else False, lista))\n",
        "\n",
        "print(\"Lasa palabras escritas en mayúsculas son \")\n",
        "print(lista_comprimida_M)\n",
        "print(\"Las palabras escritas rn minúscula son \")\n",
        "print(lista_comprimida_m)"
      ],
      "metadata": {
        "colab": {
          "base_uri": "https://localhost:8080/"
        },
        "id": "mtiDDyoF3Ylb",
        "outputId": "1cdb0a62-2ee0-48ee-fc7b-3a97017a3d32"
      },
      "execution_count": 15,
      "outputs": [
        {
          "output_type": "stream",
          "name": "stdout",
          "text": [
            "Lasa palabras escritas en mayúsculas son \n",
            "[False, True]\n",
            "Las palabras escritas rn minúscula son \n",
            "[True, False]\n"
          ]
        }
      ]
    },
    {
      "cell_type": "markdown",
      "source": [
        "##**Ejercicio Karina** "
      ],
      "metadata": {
        "id": "_KRiYIzV6cwn"
      }
    },
    {
      "cell_type": "code",
      "source": [
        "#Tradicional\n",
        "def pali(word):\n",
        "  rev=word[::-1]\n",
        "  return word==rev\n",
        "word=(input(\"Digita una palabra \")).lower()\n",
        "final=pali(word)\n",
        "if final==True:\n",
        "  print(f\"{word} es una palabra palíndromo\")\n",
        "else: \n",
        "  print(f\"{word} no es una palabra palíndromo\")"
      ],
      "metadata": {
        "colab": {
          "base_uri": "https://localhost:8080/"
        },
        "id": "ghD4woaL6yXu",
        "outputId": "cdf16e4e-5978-4037-c9e0-d36b1d033c47"
      },
      "execution_count": 18,
      "outputs": [
        {
          "output_type": "stream",
          "name": "stdout",
          "text": [
            "Digita una palabra computador \n",
            "computador  no es una palabra palíndromo\n"
          ]
        }
      ]
    },
    {
      "cell_type": "code",
      "source": [
        "#Por comprensión \n",
        "c=int(input(\"Digita la cantidad de elementos que deseas ingresar: \"))\n",
        "a=0\n",
        "lista1=[]\n",
        "for i in range (c):\n",
        "  word=str(input(\"Escribe aquí: \")).lower()\n",
        "  lista1.append(word)\n",
        "print(lista1)\n",
        "lista2=[x for x in lista1 if x==x[::-1]]\n",
        "print(\"Palabras Palíndromo\",lista2)"
      ],
      "metadata": {
        "colab": {
          "base_uri": "https://localhost:8080/"
        },
        "id": "djokLjV49C5x",
        "outputId": "4d8ce9ca-dd36-4b27-b67b-17a71dacc8ba"
      },
      "execution_count": 23,
      "outputs": [
        {
          "output_type": "stream",
          "name": "stdout",
          "text": [
            "Digita la cantidad de elementos que deseas ingresar: 2\n",
            "Escribe aquí: ana\n",
            "Escribe aquí: perro\n",
            "['ana', 'perro']\n",
            "Palabras Palíndromo ['ana']\n"
          ]
        }
      ]
    },
    {
      "cell_type": "code",
      "source": [
        "#Por lambda \n",
        "c=int(input(\"Digita la cantidad de elementos que deseas ingresar: \"))\n",
        "lista1=[]\n",
        "for i in range(c):\n",
        "  word=str(input(\"Escribe aquí: \")).lower()\n",
        "  lista1.append(word)\n",
        "print(lista1)\n",
        "lista2=list((map(lambda x:True if x==x[::-1] else False, lista1))) #use map para que realizara la función para cada elemento de la lista #use list para que no me muestre el objeto\n",
        "lista2"
      ],
      "metadata": {
        "colab": {
          "base_uri": "https://localhost:8080/"
        },
        "id": "Zjfvwo8V943G",
        "outputId": "435fd89c-18a0-48ab-e331-93e28356057a"
      },
      "execution_count": 22,
      "outputs": [
        {
          "output_type": "stream",
          "name": "stdout",
          "text": [
            "Digita la cantidad de elementos que deseas ingresar: 2\n",
            "Escribe aquí: ana\n",
            "Escribe aquí: perro\n",
            "['ana', 'perro']\n"
          ]
        },
        {
          "output_type": "execute_result",
          "data": {
            "text/plain": [
              "[True, False]"
            ]
          },
          "metadata": {},
          "execution_count": 22
        }
      ]
    },
    {
      "cell_type": "markdown",
      "source": [
        "##**Ejercicio by Daniel Castro** "
      ],
      "metadata": {
        "id": "Id8Cag6iAlzo"
      }
    },
    {
      "cell_type": "code",
      "source": [
        "#Tradicional\n",
        "import random\n",
        "stock=[\"martillo\", \"alicate\", \"clavo\", \"perno\"]\n",
        "cality=[\"GOOD\", \"FAIL\"]\n",
        "a=[]\n",
        "for i in stock:\n",
        "  a.append((i,random.choice(cality)))\n",
        "listg=[]\n",
        "listf=[]\n",
        "for x in a:\n",
        "  if \"GOOD\" in x:\n",
        "    listg.append(x)\n",
        "    print(listg)\n",
        "  elif \"FAIL\" in x:\n",
        "    listf.append(x)\n",
        "print(listf)  \n",
        "print(listg)"
      ],
      "metadata": {
        "colab": {
          "base_uri": "https://localhost:8080/"
        },
        "id": "Z3NfaGy9Avg9",
        "outputId": "8799ff9f-964d-4c42-ec36-e253f068df82"
      },
      "execution_count": 2,
      "outputs": [
        {
          "output_type": "stream",
          "name": "stdout",
          "text": [
            "[('martillo', 'GOOD')]\n",
            "[('alicate', 'FAIL'), ('clavo', 'FAIL'), ('perno', 'FAIL')]\n",
            "[('martillo', 'GOOD')]\n"
          ]
        }
      ]
    },
    {
      "cell_type": "code",
      "source": [
        "#Comprensión\n",
        "import random\n",
        "stock=[\"martillo\", \"alicate\", \"clavo\", \"perno\"]\n",
        "cality=[\"GOOD\", \"FAIL\"]\n",
        "a=[]\n",
        "for i in stock:\n",
        "  a.append((i,random.choice(cality)))\n",
        "listg=[]\n",
        "listf=[]\n",
        "listg=[x for x in a if \"GOOD\" in x]\n",
        "listf=[x for x in a if \"FAIL\" in x]\n",
        "print(listf,listg)"
      ],
      "metadata": {
        "colab": {
          "base_uri": "https://localhost:8080/"
        },
        "id": "mq33ifQID05t",
        "outputId": "e2b5dd4a-7078-4c21-f8bb-4e8aeeba3009"
      },
      "execution_count": 3,
      "outputs": [
        {
          "output_type": "stream",
          "name": "stdout",
          "text": [
            "[('martillo', 'FAIL'), ('alicate', 'FAIL')] [('clavo', 'GOOD'), ('perno', 'GOOD')]\n"
          ]
        }
      ]
    },
    {
      "cell_type": "code",
      "source": [
        "import random\n",
        "stock=[\"martillo\", \"alicate\", \"clavo\", \"perno\"]\n",
        "cality=[\"GOOD\", \"FAIL\"]\n",
        "a=[]\n",
        "for i in stock:\n",
        "  a.append((i,random.choice(cality)))\n",
        "listg=[]\n",
        "listf=[]\n",
        "listg= map(lambda x,a: if x = \"GOOD\" es)\n",
        "listf= map(lambda x,a: if x = \"FAIL\" es)"
      ],
      "metadata": {
        "colab": {
          "base_uri": "https://localhost:8080/",
          "height": 130
        },
        "id": "9M69oFbXD8FM",
        "outputId": "cf4a23a6-c1bd-4bd3-c613-fe9020470566"
      },
      "execution_count": 4,
      "outputs": [
        {
          "output_type": "error",
          "ename": "SyntaxError",
          "evalue": "ignored",
          "traceback": [
            "\u001b[0;36m  File \u001b[0;32m\"<ipython-input-4-23817a931ad0>\"\u001b[0;36m, line \u001b[0;32m9\u001b[0m\n\u001b[0;31m    listg= map(lambda x,a: if x = \"GOOD\" es)\u001b[0m\n\u001b[0m                            ^\u001b[0m\n\u001b[0;31mSyntaxError\u001b[0m\u001b[0;31m:\u001b[0m invalid syntax\n"
          ]
        }
      ]
    },
    {
      "cell_type": "markdown",
      "source": [
        "#**Ejercicio Paula** "
      ],
      "metadata": {
        "id": "ofqhSUZgIujA"
      }
    },
    {
      "cell_type": "code",
      "source": [
        "def capitalizar(oracion):\n",
        "  lista1=[]\n",
        "  for l in n1:\n",
        "    lista1.append(l)\n",
        "    lista1[0]=n1[0].upper()\n",
        "  print(\"\".join(lista1))"
      ],
      "metadata": {
        "id": "KIw9Rx9pI4tk"
      },
      "execution_count": 5,
      "outputs": []
    },
    {
      "cell_type": "code",
      "source": [
        "n1=input(\"Ingresa una oración \")\n",
        "oracion=capitalizar(n1)\n",
        "oracion "
      ],
      "metadata": {
        "colab": {
          "base_uri": "https://localhost:8080/"
        },
        "id": "wzaV3LCRJBQ5",
        "outputId": "0e7a9c1b-8447-4ace-c7d5-c56d5f672b68"
      },
      "execution_count": 6,
      "outputs": [
        {
          "output_type": "stream",
          "name": "stdout",
          "text": [
            "Ingresa una oración hola carambola \n",
            "Hola carambola \n"
          ]
        }
      ]
    },
    {
      "cell_type": "code",
      "source": [
        "listap=[]\n",
        "n=input(\"Ingresa una oración: \")\n",
        "for l in n:\n",
        "  listap.append(l)\n",
        "  listap[0]=n[0].upper()\n",
        "  print(\"\".join(listap))"
      ],
      "metadata": {
        "colab": {
          "base_uri": "https://localhost:8080/"
        },
        "id": "2ChBPeYTMZ5e",
        "outputId": "8a3100e5-344f-4113-ef30-0c85c72c8378"
      },
      "execution_count": 8,
      "outputs": [
        {
          "output_type": "stream",
          "name": "stdout",
          "text": [
            "Ingresa una oración: hola carambola\n",
            "H\n",
            "Ho\n",
            "Hol\n",
            "Hola\n",
            "Hola \n",
            "Hola c\n",
            "Hola ca\n",
            "Hola car\n",
            "Hola cara\n",
            "Hola caram\n",
            "Hola caramb\n",
            "Hola carambo\n",
            "Hola carambol\n",
            "Hola carambola\n"
          ]
        }
      ]
    },
    {
      "cell_type": "markdown",
      "source": [
        "##Ejercicio Francisco "
      ],
      "metadata": {
        "id": "bbqIJh6tK8gO"
      }
    },
    {
      "cell_type": "code",
      "source": [
        "#Tradicional \n",
        "import random \n",
        "palabras=[\"a\", \"e\", \"i\", \"o\", \"u\"]\n",
        "numero=[1,2,3,4,5,6,7,8,9]\n",
        "generador=[]\n",
        "for i in range(0,5):\n",
        "  generador.append(random.choice(palabras))\n",
        "  generador.append(random.choice(numero))\n",
        "print(generador)"
      ],
      "metadata": {
        "colab": {
          "base_uri": "https://localhost:8080/"
        },
        "id": "uNwC0sMAK_g2",
        "outputId": "4de1ab10-8b69-462b-adfb-257925ac8653"
      },
      "execution_count": 7,
      "outputs": [
        {
          "output_type": "stream",
          "name": "stdout",
          "text": [
            "['u', 7, 'a', 8, 'i', 6, 'a', 7, 'a', 1]\n"
          ]
        }
      ]
    },
    {
      "cell_type": "code",
      "source": [
        "#Comprensión \n",
        "import random\n",
        "x=input(\"Ingrese la palabra de la contraseña \")\n",
        "palabras=[letra for letra in x]\n",
        "numeros2=[num for num in range(0,10)]\n",
        "generador=[random.choice(palabras) or random.choice(numeros2) for num in range(0,11)]\n",
        "print(generador)"
      ],
      "metadata": {
        "colab": {
          "base_uri": "https://localhost:8080/"
        },
        "id": "4BbB9fcbL5Vu",
        "outputId": "9725ec85-281e-4cb0-fb24-2194849a5db5"
      },
      "execution_count": 9,
      "outputs": [
        {
          "output_type": "stream",
          "name": "stdout",
          "text": [
            "Ingrese la palabra de la contraseña hola\n",
            "['o', 'l', 'l', 'h', 'l', 'a', 'a', 'a', 'a', 'h', 'l']\n"
          ]
        }
      ]
    },
    {
      "cell_type": "code",
      "source": [
        "#Lambda\n",
        "x=input(\"Ingrese la palabra de la contraseña: \")\n",
        "palabras=[letra for letra in x]\n",
        "números2=[num for num in range (0,10)]\n",
        "generador2=[random.choice(list(map(lambda x:x, números2))) or random.choice(sorted(palabras, key= lambda letra: letra in palabras))for num in range(0,11)]\n",
        "print(generador2)"
      ],
      "metadata": {
        "colab": {
          "base_uri": "https://localhost:8080/"
        },
        "id": "A7MJNBuOMGwP",
        "outputId": "8aba9dba-738e-49d0-ae9e-98afbfb8704a"
      },
      "execution_count": 10,
      "outputs": [
        {
          "output_type": "stream",
          "name": "stdout",
          "text": [
            "Ingrese la palabra de la contraseña: hola\n",
            "[1, 9, 5, 9, 1, 'l', 1, 2, 'h', 4, 1]\n"
          ]
        }
      ]
    },
    {
      "cell_type": "markdown",
      "source": [
        "##**Ejercicio Ana** "
      ],
      "metadata": {
        "id": "5ERh4ExOPmv9"
      }
    },
    {
      "cell_type": "code",
      "source": [
        "#normal\n",
        "print(\"¡Hola! Soy Lucía del sistema de asignación de turnos para pasaporte de la Gobernación \\n Solo las personas mayores de edad tendrán su cita mañana en el rango de 6am a 12 pm \\n y los menores de edad la tendrán en el rango de 2pm a 6pm \\n \" )\n",
        "lista1=[('Pedro',33),('Ana',3),('Juan',13),('Carla',45)]\n",
        "lista2=[]\n",
        "lista3=[]\n",
        "for elemento in lista1:\n",
        "  if elemento[1]>=18:\n",
        "    lista2.append(elemento)\n",
        "print(f'{lista2} tendrán la cita a las 8am y 10am respectivamente')\n",
        "\n",
        "for elemento in lista1:\n",
        "  if elemento[1]<18:\n",
        "    lista3.append(elemento)\n",
        "print(f'{lista3} tendrán la cita a las 2pm y 4pm respectivamente')"
      ],
      "metadata": {
        "colab": {
          "base_uri": "https://localhost:8080/"
        },
        "id": "a1atI_JHPq_B",
        "outputId": "c3f081a4-26c4-4f1d-a345-4bd2d1e85cd0"
      },
      "execution_count": 11,
      "outputs": [
        {
          "output_type": "stream",
          "name": "stdout",
          "text": [
            "¡Hola! Soy Lucía del sistema de asignación de turnos para pasaporte de la Gobernación \n",
            " Solo las personas mayores de edad tendrán su cita mañana en el rango de 6am a 12 pm \n",
            " y los menores de edad la tendrán en el rango de 2pm a 6pm \n",
            " \n",
            "[('Pedro', 33), ('Carla', 45)] tendrán la cita a las 8am y 10am respectivamente\n",
            "[('Ana', 3), ('Juan', 13)] tendrán la cita a las 2pm y 4pm respectivamente\n"
          ]
        }
      ]
    },
    {
      "cell_type": "code",
      "source": [
        "#compresión\n",
        "print(\"¡Hola! Soy Lucía del sistema de asignación de turnos para pasaporte de la Gobernación \\n Solo las personas mayores de edad tendrán su cita mañana en el rango de 6am a 12 pm \\n y los menores de edad la tendrán en el rango de 2pm a 6pm \\n \" )\n",
        "personas=[('Pedro',33),('Ana',3),('Juan',13),('Carla',45)]\n",
        "\n",
        "\n",
        "personas_mayores=[per for per in personas if per[1]>=18]\n",
        "print(f'{personas_mayores} tendrán la cita a las 8am y 10am respectivamente')\n",
        "\n",
        "personas_menores=[per for per in personas if per[1]<18]\n",
        "print(f'{personas_menores} tendrán la cita a las 2pm y 4pm respectivamente')"
      ],
      "metadata": {
        "colab": {
          "base_uri": "https://localhost:8080/"
        },
        "id": "XRQmPb6tPxSe",
        "outputId": "efe9179a-22af-469b-dc4b-a9b47d08c804"
      },
      "execution_count": 12,
      "outputs": [
        {
          "output_type": "stream",
          "name": "stdout",
          "text": [
            "¡Hola! Soy Lucía del sistema de asignación de turnos para pasaporte de la Gobernación \n",
            " Solo las personas mayores de edad tendrán su cita mañana en el rango de 6am a 12 pm \n",
            " y los menores de edad la tendrán en el rango de 2pm a 6pm \n",
            " \n",
            "[('Pedro', 33), ('Carla', 45)] tendrán la cita a las 8am y 10am respectivamente\n",
            "[('Ana', 3), ('Juan', 13)] tendrán la cita a las 2pm y 4pm respectivamente\n"
          ]
        }
      ]
    },
    {
      "cell_type": "code",
      "source": [
        "#lambda\n",
        "print(\"¡Hola! Soy Lucía del sistema de asignación de turnos para pasaporte de la Gobernación \\n Solo las personas mayores de edad tendrán su cita mañana en el rango de 6am a 12 pm \\n y los menores de edad la tendrán en el rango de 2pm a 6pm \\n \" )\n",
        "personas=[('Pedro',33),('Ana',3),('Juan',13),('Carla',45)]\n",
        "perma=list(filter(lambda may: may[1]>=18,personas ))\n",
        "perma\n",
        "print(f'{perma} tendrán la cita a las 8am y 10am respectivamente')\n",
        "\n",
        "perme=list(filter(lambda men: men[1]<18,personas ))\n",
        "perme\n",
        "print(f'{perme} tendrán la cita a las 2pm y 4pm respectivamente')"
      ],
      "metadata": {
        "colab": {
          "base_uri": "https://localhost:8080/"
        },
        "id": "VdcYPxCuPzDU",
        "outputId": "10a84d3d-11ea-489c-d9b3-511e05ef63c2"
      },
      "execution_count": 13,
      "outputs": [
        {
          "output_type": "stream",
          "name": "stdout",
          "text": [
            "¡Hola! Soy Lucía del sistema de asignación de turnos para pasaporte de la Gobernación \n",
            " Solo las personas mayores de edad tendrán su cita mañana en el rango de 6am a 12 pm \n",
            " y los menores de edad la tendrán en el rango de 2pm a 6pm \n",
            " \n",
            "[('Pedro', 33), ('Carla', 45)] tendrán la cita a las 8am y 10am respectivamente\n",
            "[('Ana', 3), ('Juan', 13)] tendrán la cita a las 2pm y 4pm respectivamente\n"
          ]
        }
      ]
    }
  ]
}