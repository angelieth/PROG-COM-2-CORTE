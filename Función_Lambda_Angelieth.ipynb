{
  "nbformat": 4,
  "nbformat_minor": 0,
  "metadata": {
    "colab": {
      "provenance": []
    },
    "kernelspec": {
      "name": "python3",
      "display_name": "Python 3"
    },
    "language_info": {
      "name": "python"
    }
  },
  "cells": [
    {
      "cell_type": "markdown",
      "source": [
        "#Lambda o funciones anónimas\n",
        "*   Funciones pequeñas, de fácil acceso y rápidas \n",
        "*   Puede contener **varios** argumentos, pero sólo una expresión\n",
        "\n",
        "**Definiendo lambda:**\n",
        "\n",
        "lambda(parámetro): expresión \n",
        "\n",
        "\n",
        "\n",
        "\n"
      ],
      "metadata": {
        "id": "f0LpODXq9ajU"
      }
    },
    {
      "cell_type": "code",
      "source": [
        "#Función que eleve al cuadrado todos los elementos de una list.\n",
        "lista=[3,7,6,9]\n",
        "#Comprensión \n",
        "lista2=[n**2 for n in lista]\n",
        "lista2"
      ],
      "metadata": {
        "colab": {
          "base_uri": "https://localhost:8080/"
        },
        "id": "J2bcJQC5-KGZ",
        "outputId": "44808af6-b503-489c-cd7a-1b92b1366404"
      },
      "execution_count": null,
      "outputs": [
        {
          "output_type": "execute_result",
          "data": {
            "text/plain": [
              "[9, 49, 36, 81]"
            ]
          },
          "metadata": {},
          "execution_count": 2
        }
      ]
    },
    {
      "cell_type": "code",
      "source": [
        "lambda1=lambda x:x**2\n",
        "lambda1(2)"
      ],
      "metadata": {
        "colab": {
          "base_uri": "https://localhost:8080/"
        },
        "id": "-ND_pfP_AWfo",
        "outputId": "975ea105-79e2-4960-d666-ba4530754d61"
      },
      "execution_count": null,
      "outputs": [
        {
          "output_type": "execute_result",
          "data": {
            "text/plain": [
              "4"
            ]
          },
          "metadata": {},
          "execution_count": 8
        }
      ]
    },
    {
      "cell_type": "code",
      "source": [
        "lambda2=lambda x, y:x**y\n",
        "lambda2(2,4)"
      ],
      "metadata": {
        "colab": {
          "base_uri": "https://localhost:8080/"
        },
        "id": "Fv06q7YiAiEv",
        "outputId": "813c0710-9ced-43ca-e577-956cec00cdf4"
      },
      "execution_count": null,
      "outputs": [
        {
          "output_type": "execute_result",
          "data": {
            "text/plain": [
              "16"
            ]
          },
          "metadata": {},
          "execution_count": 9
        }
      ]
    },
    {
      "cell_type": "code",
      "source": [
        "lambda3=lambda num: True if num**2>=0 else False \n",
        "lambda3(4)"
      ],
      "metadata": {
        "colab": {
          "base_uri": "https://localhost:8080/"
        },
        "id": "4taSqKstA6y8",
        "outputId": "0660ce66-4b3b-4b64-b5f8-b189c1085b1b"
      },
      "execution_count": null,
      "outputs": [
        {
          "output_type": "execute_result",
          "data": {
            "text/plain": [
              "True"
            ]
          },
          "metadata": {},
          "execution_count": 12
        }
      ]
    },
    {
      "cell_type": "code",
      "source": [
        "lambda3(3)"
      ],
      "metadata": {
        "colab": {
          "base_uri": "https://localhost:8080/"
        },
        "id": "oCC2C1zCBqFG",
        "outputId": "e37b7145-aabb-4dab-d23b-e8b3af0bcee3"
      },
      "execution_count": null,
      "outputs": [
        {
          "output_type": "execute_result",
          "data": {
            "text/plain": [
              "True"
            ]
          },
          "metadata": {},
          "execution_count": 14
        }
      ]
    },
    {
      "cell_type": "code",
      "source": [
        "letras={\"A\":1, \"B\":2, \"C\":3}\n",
        "sorted(letras, key=lambda x:letras[x]%3)"
      ],
      "metadata": {
        "colab": {
          "base_uri": "https://localhost:8080/"
        },
        "id": "lYV58c1oDJ2W",
        "outputId": "1f5b2281-89c4-42aa-9165-60e49ce22cce"
      },
      "execution_count": null,
      "outputs": [
        {
          "output_type": "execute_result",
          "data": {
            "text/plain": [
              "['C', 'A', 'B']"
            ]
          },
          "metadata": {},
          "execution_count": 15
        }
      ]
    },
    {
      "cell_type": "code",
      "source": [
        "mi_lista=[1,2,3,4,5,6,7,8,9,10]\n",
        "filtrado=[n for n in mi_lista if n%2!=0]\n",
        "filtrado"
      ],
      "metadata": {
        "colab": {
          "base_uri": "https://localhost:8080/"
        },
        "id": "TTXW__2REF_G",
        "outputId": "33f25a02-e0a7-4706-eaa4-18a255e09ede"
      },
      "execution_count": null,
      "outputs": [
        {
          "output_type": "execute_result",
          "data": {
            "text/plain": [
              "[1, 3, 5, 7, 9]"
            ]
          },
          "metadata": {},
          "execution_count": 18
        }
      ]
    },
    {
      "cell_type": "code",
      "source": [
        "mi_lista2=[n for n in range (1,11)]\n",
        "mi_lista"
      ],
      "metadata": {
        "colab": {
          "base_uri": "https://localhost:8080/"
        },
        "id": "54YCsBCbFQHl",
        "outputId": "88a62709-07f0-4a5d-c491-1dbf41c305dc"
      },
      "execution_count": null,
      "outputs": [
        {
          "output_type": "execute_result",
          "data": {
            "text/plain": [
              "[1, 2, 3, 4, 5, 6, 7, 8, 9, 10]"
            ]
          },
          "metadata": {},
          "execution_count": 19
        }
      ]
    },
    {
      "cell_type": "code",
      "source": [
        "import random\n",
        "mi_lista3=[random.randrange(1, 11) for i in range(10)]\n",
        "mi_lista3"
      ],
      "metadata": {
        "colab": {
          "base_uri": "https://localhost:8080/"
        },
        "id": "Gy7yxmVPGQwb",
        "outputId": "2ba827e1-30cf-4796-fbd1-698b65b12192"
      },
      "execution_count": null,
      "outputs": [
        {
          "output_type": "execute_result",
          "data": {
            "text/plain": [
              "[10, 9, 9, 5, 10, 10, 4, 8, 4, 1]"
            ]
          },
          "metadata": {},
          "execution_count": 20
        }
      ]
    },
    {
      "cell_type": "markdown",
      "source": [
        "##Funciones de orden superior \n",
        "\n",
        "1. **MAP**  \n",
        "La función se aplica a cada elemento de la lista\n",
        "\n",
        "  También se puede utilizar en diccionarios pero se debe indicar que se quiere modificar si las claves o los valores\n",
        "\n",
        "map(una_funcion, una_lista) \n",
        "\n"
      ],
      "metadata": {
        "id": "4Xv6ZnTDGvuD"
      }
    },
    {
      "cell_type": "code",
      "source": [
        "cuadrados=[] #Creando una lista vacía \n",
        "for i in lista:\n",
        "  cuadrados.append(i**2)\n",
        "\n",
        "print(cuadrados)"
      ],
      "metadata": {
        "colab": {
          "base_uri": "https://localhost:8080/"
        },
        "id": "r9Y1L7huHl85",
        "outputId": "2739df00-c2b0-4919-8454-5fde1cd2d9ff"
      },
      "execution_count": null,
      "outputs": [
        {
          "output_type": "stream",
          "name": "stdout",
          "text": [
            "[9, 49, 36, 81]\n"
          ]
        }
      ]
    },
    {
      "cell_type": "code",
      "source": [
        "cuadrado2=[x**2 for x in lista]#Comprensión \n",
        "cuadrado2 "
      ],
      "metadata": {
        "colab": {
          "base_uri": "https://localhost:8080/"
        },
        "id": "Gb0AMamGIqP2",
        "outputId": "31b1af7c-3bba-43ad-ca72-9e68f8f4fba4"
      },
      "execution_count": null,
      "outputs": [
        {
          "output_type": "execute_result",
          "data": {
            "text/plain": [
              "[9, 49, 36, 81]"
            ]
          },
          "metadata": {},
          "execution_count": 22
        }
      ]
    },
    {
      "cell_type": "code",
      "source": [
        "cuadrado3=list(map(lambda x:x**2, lista))\n",
        "cuadrado3"
      ],
      "metadata": {
        "colab": {
          "base_uri": "https://localhost:8080/"
        },
        "id": "9WD6fmsTJB89",
        "outputId": "6a53d617-c163-4f2a-fd77-e1a839162f94"
      },
      "execution_count": null,
      "outputs": [
        {
          "output_type": "execute_result",
          "data": {
            "text/plain": [
              "[9, 49, 36, 81]"
            ]
          },
          "metadata": {},
          "execution_count": 23
        }
      ]
    },
    {
      "cell_type": "markdown",
      "source": [
        "##**2. FILTER**\n",
        "Filtrar. Si se cumple la condición devuleve un True \n",
        "Se define: fliter(una_funcion, una lista)"
      ],
      "metadata": {
        "id": "zEYBmHnfKDub"
      }
    },
    {
      "cell_type": "code",
      "source": [
        "valores=[num for num in range(1, 10)]\n",
        "pares=[]\n",
        "for valor in valores:\n",
        "  if valor%2==0:\n",
        "    pares.append(valor)\n",
        "print(pares)"
      ],
      "metadata": {
        "colab": {
          "base_uri": "https://localhost:8080/"
        },
        "id": "8zWM2GOJKfFw",
        "outputId": "c400d7b3-4575-4f78-b97f-d6eecd00386b"
      },
      "execution_count": null,
      "outputs": [
        {
          "output_type": "stream",
          "name": "stdout",
          "text": [
            "[2, 4, 6, 8]\n"
          ]
        }
      ]
    },
    {
      "cell_type": "code",
      "source": [
        "valor2=[lol for lol in valores if lol%2==0]\n",
        "valor2"
      ],
      "metadata": {
        "colab": {
          "base_uri": "https://localhost:8080/"
        },
        "id": "dZXn-da_LHgk",
        "outputId": "3e07fc8e-6c4a-4774-9560-f517df22e2d3"
      },
      "execution_count": null,
      "outputs": [
        {
          "output_type": "execute_result",
          "data": {
            "text/plain": [
              "[2, 4, 6, 8]"
            ]
          },
          "metadata": {},
          "execution_count": 26
        }
      ]
    },
    {
      "cell_type": "code",
      "source": [
        "valor3=list(filter(lambda julito: julito%2==0, valores))\n",
        "valor3"
      ],
      "metadata": {
        "colab": {
          "base_uri": "https://localhost:8080/"
        },
        "id": "V_28nCUILZ63",
        "outputId": "21eb46fd-354b-4a05-8c08-d6ed7a0ecac6"
      },
      "execution_count": null,
      "outputs": [
        {
          "output_type": "execute_result",
          "data": {
            "text/plain": [
              "[2, 4, 6, 8]"
            ]
          },
          "metadata": {},
          "execution_count": 27
        }
      ]
    },
    {
      "cell_type": "markdown",
      "source": [
        "##3. REDUCE\n",
        "\n",
        "Es un acumulador \n",
        "\n",
        "**Para usar REDUCE se debe importat el módulo functools**\n",
        "\n"
      ],
      "metadata": {
        "id": "r5zsv0diMAcP"
      }
    },
    {
      "cell_type": "code",
      "source": [
        "from functools import reduce \n",
        "\n",
        "def suma(lista):\n",
        "  suma=0\n",
        "  for i in lista:\n",
        "    suma+=i #suma=suma+i\n",
        "  return suma \n",
        "print(suma(valores))"
      ],
      "metadata": {
        "colab": {
          "base_uri": "https://localhost:8080/"
        },
        "id": "OOiUd5q9Ml_N",
        "outputId": "ec56960d-1290-4387-8a09-efaa35f11705"
      },
      "execution_count": null,
      "outputs": [
        {
          "output_type": "stream",
          "name": "stdout",
          "text": [
            "45\n"
          ]
        }
      ]
    },
    {
      "cell_type": "code",
      "source": [
        "suma1=reduce(lambda x,y:x+y, valores)\n",
        "suma1"
      ],
      "metadata": {
        "colab": {
          "base_uri": "https://localhost:8080/"
        },
        "id": "pbpMRUJkONGX",
        "outputId": "9d77abd8-3186-40d0-cc08-a9025c2addab"
      },
      "execution_count": null,
      "outputs": [
        {
          "output_type": "execute_result",
          "data": {
            "text/plain": [
              "45"
            ]
          },
          "metadata": {},
          "execution_count": 34
        }
      ]
    },
    {
      "cell_type": "code",
      "source": [
        "letras.keys()"
      ],
      "metadata": {
        "colab": {
          "base_uri": "https://localhost:8080/"
        },
        "id": "gFCrCF-oPSXw",
        "outputId": "e8cc81ab-655f-4f9c-ab9e-e2db2f7e0932"
      },
      "execution_count": null,
      "outputs": [
        {
          "output_type": "execute_result",
          "data": {
            "text/plain": [
              "dict_keys(['A', 'B', 'C'])"
            ]
          },
          "metadata": {},
          "execution_count": 35
        }
      ]
    },
    {
      "cell_type": "code",
      "source": [
        "letras.items()"
      ],
      "metadata": {
        "id": "XOfI-YF8PWre",
        "outputId": "0f720f30-40db-4305-df30-17b7cb5ab080",
        "colab": {
          "base_uri": "https://localhost:8080/"
        }
      },
      "execution_count": null,
      "outputs": [
        {
          "output_type": "execute_result",
          "data": {
            "text/plain": [
              "dict_items([('A', 1), ('B', 2), ('C', 3)])"
            ]
          },
          "metadata": {},
          "execution_count": 36
        }
      ]
    },
    {
      "cell_type": "code",
      "source": [
        "letras.values()"
      ],
      "metadata": {
        "id": "EwhkaoukPaVu",
        "outputId": "474b1173-4ab0-47eb-f0d9-315f7f73ad02",
        "colab": {
          "base_uri": "https://localhost:8080/"
        }
      },
      "execution_count": null,
      "outputs": [
        {
          "output_type": "execute_result",
          "data": {
            "text/plain": [
              "dict_values([1, 2, 3])"
            ]
          },
          "metadata": {},
          "execution_count": 37
        }
      ]
    }
  ]
}